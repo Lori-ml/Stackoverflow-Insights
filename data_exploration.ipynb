{
 "cells": [
  {
   "cell_type": "markdown",
   "metadata": {},
   "source": [
    "1. Job Satisfaction in  USA and Europe and statistical test"
   ]
  },
  {
   "cell_type": "code",
   "execution_count": 111,
   "metadata": {},
   "outputs": [],
   "source": [
    "import numpy as np\n",
    "import pandas as pd\n",
    "import scipy.stats as stats\n",
    "from scipy.stats import mannwhitneyu\n",
    "import seaborn as sns\n",
    "import matplotlib.pyplot as plt\n",
    "import plotly.graph_objects as go\n",
    "import colorlover as cl\n",
    "from functools import reduce\n",
    "from textwrap import wrap\n",
    "pd.set_option('display.max_columns' ,150)\n",
    "pd.set_option('display.max_rows' ,150)\n",
    "import re\n",
    "import warnings\n",
    "warnings.filterwarnings(\"ignore\")\n",
    "\n",
    "#Read datasets from year 2018 until 2020\n",
    "\n",
    "df_2018 = pd.read_csv(\"survey_results_public_2018.csv\")\n",
    "df_2019 = pd.read_csv(\"survey_results_public_2019.csv\")\n",
    "df_2020 = pd.read_csv(\"survey_results_public_2020.csv\")\n"
   ]
  },
  {
   "cell_type": "code",
   "execution_count": 112,
   "metadata": {},
   "outputs": [
    {
     "data": {
      "text/plain": [
       "array(['Moderately dissatisfied', 'Moderately satisfied',\n",
       "       'Neither satisfied nor dissatisfied', 'Slightly satisfied',\n",
       "       'Extremely satisfied', 'Slightly dissatisfied',\n",
       "       'Extremely dissatisfied'], dtype=object)"
      ]
     },
     "execution_count": 112,
     "metadata": {},
     "output_type": "execute_result"
    }
   ],
   "source": [
    "df_2018_jobsat = df_2018[['Country', 'JobSatisfaction']][(   df_2018['Country'] == 'United States') \n",
    "                                         | (df_2018['Country'] == 'Finland') \n",
    "                                         | (df_2018['Country'] == 'Denmark')\n",
    "                                         | (df_2018['Country'] == 'Iceland')\n",
    "                                         | (df_2018['Country'] == 'Switzerland') \n",
    "                                         | (df_2018['Country'] == 'Netherlands') \n",
    "                                         | (df_2018['Country'] == 'Luxembourg') \n",
    "                                         | (df_2018['Country'] == 'Sweden') \n",
    "                                         | (df_2018['Country'] == 'Norway') \n",
    "                                         | (df_2018['Country'] == 'Austria') \n",
    "                                         | (df_2018['Country'] == 'Ireland') \n",
    "                                         | (df_2018['Country'] == 'Germany') \n",
    "                                         | (df_2018['Country'] == 'United Kingdom') \n",
    "                                         | (df_2018['Country'] == 'Czech Republic') \n",
    "                                         | (df_2018['Country'] == 'Belgium') \n",
    "                                         | (df_2018['Country'] == 'France') \n",
    "                                         ]\n",
    "\n",
    "#drop nulls \n",
    "df_2018_jobsat = df_2018_jobsat.dropna(axis = 0 , how=\"any\").reset_index()\n",
    "df_2018_jobsat.loc[~ (df_2018_jobsat['Country'] == 'United States') , 'Country']  = 'Europe'\n",
    "\n",
    "df_2018_jobsat['Year'] = 2018\n",
    "\n",
    "df_2018_jobsat['JobSatisfaction'].unique()"
   ]
  },
  {
   "cell_type": "code",
   "execution_count": 113,
   "metadata": {},
   "outputs": [],
   "source": [
    "#  Year 2018 ( different from 2019 and 2020), job satisfaction question has 7 alternatives and not 5. To keep consistency across all years 'Moderately dissatisfied' will be replaced with \n",
    "# Slightly dissatisfied /  Moderately satisfied with Slightly satisfied  /  'Extremely dissatisfied' with 'Very dissatisfied' / 'Extremely satisfied' with 'Very satisfied'\n",
    "\n",
    "df_2018_jobsat.loc[ (df_2018_jobsat['JobSatisfaction'] == 'Moderately dissatisfied') , 'JobSatisfaction']  = 'Slightly dissatisfied'\n",
    "df_2018_jobsat.loc[ (df_2018_jobsat['JobSatisfaction'] == 'Moderately satisfied') , 'JobSatisfaction']  = 'Slightly satisfied'\n",
    "df_2018_jobsat.loc[ (df_2018_jobsat['JobSatisfaction'] == 'Extremely dissatisfied') , 'JobSatisfaction']  = 'Very dissatisfied'\n",
    "df_2018_jobsat.loc[ (df_2018_jobsat['JobSatisfaction'] == 'Extremely satisfied') , 'JobSatisfaction']  = 'Very satisfied'"
   ]
  },
  {
   "cell_type": "code",
   "execution_count": 114,
   "metadata": {},
   "outputs": [
    {
     "data": {
      "text/plain": [
       "Country        JobSatisfaction                   \n",
       "Europe         Neither satisfied nor dissatisfied     957\n",
       "               Slightly dissatisfied                 3230\n",
       "               Slightly satisfied                    9593\n",
       "               Very dissatisfied                      531\n",
       "               Very satisfied                        3687\n",
       "United States  Neither satisfied nor dissatisfied     836\n",
       "               Slightly dissatisfied                 2812\n",
       "               Slightly satisfied                    7913\n",
       "               Very dissatisfied                      526\n",
       "               Very satisfied                        3762\n",
       "Name: index, dtype: int64"
      ]
     },
     "execution_count": 114,
     "metadata": {},
     "output_type": "execute_result"
    }
   ],
   "source": [
    "df_2018_jobsat.groupby(['Country','JobSatisfaction']).count()['index']"
   ]
  },
  {
   "cell_type": "code",
   "execution_count": 115,
   "metadata": {},
   "outputs": [
    {
     "data": {
      "text/plain": [
       "Country        JobSat                            \n",
       "Europe         Neither satisfied nor dissatisfied    1698\n",
       "               Slightly dissatisfied                 2220\n",
       "               Slightly satisfied                    5674\n",
       "               Very dissatisfied                      984\n",
       "               Very satisfied                        5614\n",
       "United States  Neither satisfied nor dissatisfied    1524\n",
       "               Slightly dissatisfied                 2266\n",
       "               Slightly satisfied                    5578\n",
       "               Very dissatisfied                     1030\n",
       "               Very satisfied                        7197\n",
       "Name: index, dtype: int64"
      ]
     },
     "execution_count": 115,
     "metadata": {},
     "output_type": "execute_result"
    }
   ],
   "source": [
    "df_2019_jobsat = df_2019[['Country', 'JobSat']][(   df_2019['Country'] == 'United States') \n",
    "                                         | (df_2019['Country'] == 'Finland') \n",
    "                                         | (df_2019['Country'] == 'Denmark')\n",
    "                                         | (df_2019['Country'] == 'Iceland')\n",
    "                                         | (df_2019['Country'] == 'Switzerland') \n",
    "                                         | (df_2019['Country'] == 'Netherlands') \n",
    "                                         | (df_2019['Country'] == 'Luxembourg') \n",
    "                                         | (df_2019['Country'] == 'Sweden') \n",
    "                                         | (df_2019['Country'] == 'Norway') \n",
    "                                         | (df_2019['Country'] == 'Austria') \n",
    "                                         | (df_2019['Country'] == 'Ireland') \n",
    "                                         | (df_2019['Country'] == 'Germany') \n",
    "                                         | (df_2019['Country'] == 'United Kingdom') \n",
    "                                         | (df_2019['Country'] == 'Czech Republic') ]\n",
    "\n",
    "#drop nulls \n",
    "df_2019_jobsat = df_2019_jobsat.dropna(axis = 0 , how=\"any\").reset_index()\n",
    "df_2019_jobsat.loc[~ (df_2019_jobsat['Country'] == 'United States') , 'Country']  = 'Europe'\n",
    "\n",
    "df_2019_jobsat['Year'] = 2019\n",
    "                  \n",
    "df_2019_jobsat.groupby(['Country','JobSat']).count()['index']"
   ]
  },
  {
   "cell_type": "code",
   "execution_count": 116,
   "metadata": {},
   "outputs": [],
   "source": [
    "df_2020_jobsat = df_2020[['Country', 'JobSat']][(   df_2020['Country'] == 'United States') \n",
    "                                         | (df_2020['Country'] == 'Finland') \n",
    "                                         | (df_2020['Country'] == 'Denmark')\n",
    "                                         | (df_2020['Country'] == 'Iceland')\n",
    "                                         | (df_2020['Country'] == 'Switzerland') \n",
    "                                         | (df_2020['Country'] == 'Netherlands') \n",
    "                                         | (df_2020['Country'] == 'Luxembourg') \n",
    "                                         | (df_2020['Country'] == 'Sweden') \n",
    "                                         | (df_2020['Country'] == 'Norway') \n",
    "                                         | (df_2020['Country'] == 'Austria') \n",
    "                                         | (df_2020['Country'] == 'Ireland') \n",
    "                                         | (df_2020['Country'] == 'Germany') \n",
    "                                         | (df_2020['Country'] == 'United Kingdom') \n",
    "                                         | (df_2020['Country'] == 'Czech Republic') ]\n",
    "\n",
    "#drop nulls \n",
    "df_2020_jobsat = df_2020_jobsat.dropna(axis = 0 , how=\"any\").reset_index()\n",
    "#group all Europian counties under 'Europe'\n",
    "df_2020_jobsat.loc[~ (df_2020_jobsat['Country'] == 'United States') , 'Country']  = 'Europe'\n",
    "df_2020_jobsat['Year'] = 2020\n",
    "\n",
    "\n"
   ]
  },
  {
   "cell_type": "code",
   "execution_count": 117,
   "metadata": {},
   "outputs": [],
   "source": [
    "df_2020_2019 = df_2020_jobsat.append(df_2019_jobsat)\n",
    "df_2020_2019 = df_2020_2019.rename(columns = {\"JobSat\" : \"JobSatisfaction\"})\n",
    "\n",
    "df_all_jobsat = df_2020_2019.append(df_2018_jobsat)\n",
    "df_all_jobsat = df_all_jobsat.rename(columns = {\"Country\":\"Continent\"}).reset_index().drop(columns=['level_0','index'])\n",
    "\n",
    "\n",
    "df_all_jobsat.loc[df_all_jobsat['JobSatisfaction'] == 'Very dissatisfied' , 'JobSatisfaction_Ordinal' ]  = 1\n",
    "df_all_jobsat.loc[df_all_jobsat['JobSatisfaction'] == 'Slightly dissatisfied' , 'JobSatisfaction_Ordinal' ]  = 2\n",
    "df_all_jobsat.loc[df_all_jobsat['JobSatisfaction'] == 'Neither satisfied nor dissatisfied' , 'JobSatisfaction_Ordinal' ]  = 3\n",
    "df_all_jobsat.loc[df_all_jobsat['JobSatisfaction'] == 'Neither satisfied nor dissatisfied' , 'JobSatisfaction_Ordinal' ]  = 3\n",
    "df_all_jobsat.loc[df_all_jobsat['JobSatisfaction'] == 'Slightly satisfied' , 'JobSatisfaction_Ordinal' ]  = 4\n",
    "df_all_jobsat.loc[df_all_jobsat['JobSatisfaction'] == 'Very satisfied' , 'JobSatisfaction_Ordinal' ]  = 5\n",
    "\n",
    "df_all_jobsat_vis = df_all_jobsat.copy()\n",
    "\n",
    "df_all_jobsat_vis.loc[(df_all_jobsat_vis['JobSatisfaction'] == 'Slightly dissatisfied') , 'JobSatisfaction' ] = 'Dissatisfied'\n",
    "df_all_jobsat_vis.loc[(df_all_jobsat_vis['JobSatisfaction'] == 'Very dissatisfied') , 'JobSatisfaction' ] = 'Dissatisfied'\n",
    "df_all_jobsat_vis.loc[(df_all_jobsat_vis['JobSatisfaction'] == 'Slightly satisfied') , 'JobSatisfaction' ] = 'Satisfied'\n",
    "df_all_jobsat_vis.loc[(df_all_jobsat_vis['JobSatisfaction'] == 'Very satisfied') , 'JobSatisfaction' ] = 'Satisfied'\n",
    "\n"
   ]
  },
  {
   "cell_type": "code",
   "execution_count": 118,
   "metadata": {},
   "outputs": [
    {
     "data": {
      "text/plain": [
       "Europe           44414\n",
       "United States    43175\n",
       "Name: Continent, dtype: int64"
      ]
     },
     "execution_count": 118,
     "metadata": {},
     "output_type": "execute_result"
    }
   ],
   "source": [
    "# create a new column in the dataset for the count \n",
    "df_all_jobsat[\"row_num\"] = np.arange(df_all_jobsat.shape[0])\n",
    "# check the counts for each Continent\n",
    "df_all_jobsat['Continent'].value_counts()"
   ]
  },
  {
   "cell_type": "code",
   "execution_count": 119,
   "metadata": {},
   "outputs": [
    {
     "data": {
      "text/html": [
       "<div>\n",
       "<style scoped>\n",
       "    .dataframe tbody tr th:only-of-type {\n",
       "        vertical-align: middle;\n",
       "    }\n",
       "\n",
       "    .dataframe tbody tr th {\n",
       "        vertical-align: top;\n",
       "    }\n",
       "\n",
       "    .dataframe thead th {\n",
       "        text-align: right;\n",
       "    }\n",
       "</style>\n",
       "<table border=\"1\" class=\"dataframe\">\n",
       "  <thead>\n",
       "    <tr style=\"text-align: right;\">\n",
       "      <th>JobSatisfaction</th>\n",
       "      <th>Very dissatisfied</th>\n",
       "      <th>Slightly dissatisfied</th>\n",
       "      <th>Neither satisfied nor dissatisfied</th>\n",
       "      <th>Slightly satisfied</th>\n",
       "      <th>Very satisfied</th>\n",
       "    </tr>\n",
       "    <tr>\n",
       "      <th>Continent</th>\n",
       "      <th></th>\n",
       "      <th></th>\n",
       "      <th></th>\n",
       "      <th></th>\n",
       "      <th></th>\n",
       "    </tr>\n",
       "  </thead>\n",
       "  <tbody>\n",
       "    <tr>\n",
       "      <th>United States</th>\n",
       "      <td>-2170</td>\n",
       "      <td>-6393</td>\n",
       "      <td>3265</td>\n",
       "      <td>16349</td>\n",
       "      <td>14998</td>\n",
       "    </tr>\n",
       "    <tr>\n",
       "      <th>Europe</th>\n",
       "      <td>-2261</td>\n",
       "      <td>-6972</td>\n",
       "      <td>3706</td>\n",
       "      <td>18322</td>\n",
       "      <td>13153</td>\n",
       "    </tr>\n",
       "  </tbody>\n",
       "</table>\n",
       "</div>"
      ],
      "text/plain": [
       "JobSatisfaction  Very dissatisfied  Slightly dissatisfied  \\\n",
       "Continent                                                   \n",
       "United States                -2170                  -6393   \n",
       "Europe                       -2261                  -6972   \n",
       "\n",
       "JobSatisfaction  Neither satisfied nor dissatisfied  Slightly satisfied  \\\n",
       "Continent                                                                 \n",
       "United States                                  3265               16349   \n",
       "Europe                                         3706               18322   \n",
       "\n",
       "JobSatisfaction  Very satisfied  \n",
       "Continent                        \n",
       "United States             14998  \n",
       "Europe                    13153  "
      ]
     },
     "execution_count": 119,
     "metadata": {},
     "output_type": "execute_result"
    }
   ],
   "source": [
    "#create a list with ordered likert data\n",
    "\n",
    "category_order = ['Very dissatisfied' ,'Slightly dissatisfied' , 'Neither satisfied nor dissatisfied' ,'Slightly satisfied' , 'Very satisfied' ]\n",
    "\n",
    "#create a pivoted table from the dataframe, with index Continents and count values for each category in JobSatisfaction\n",
    "df_all_jobsat_pivoted = pd.pivot_table(df_all_jobsat , index = 'Continent' , columns='JobSatisfaction',values= 'row_num' , aggfunc= 'count')\n",
    "\n",
    "#create a dataframe with above columns in order\n",
    "df_all_jobsat_pivoted = df_all_jobsat_pivoted[category_order]\n",
    "\n",
    "# convert negative sentiments to negative values\n",
    "df_all_jobsat_pivoted['Very dissatisfied'] = df_all_jobsat_pivoted['Very dissatisfied'] * (-1)\n",
    "df_all_jobsat_pivoted['Slightly dissatisfied'] = df_all_jobsat_pivoted['Slightly dissatisfied'] * (-1)\n",
    "\n",
    "#sort values\n",
    "df_all_jobsat_pivoted = df_all_jobsat_pivoted.sort_values(by = ['Very dissatisfied' ] , ascending = False )\n",
    "df_all_jobsat_pivoted"
   ]
  },
  {
   "cell_type": "code",
   "execution_count": 120,
   "metadata": {},
   "outputs": [
    {
     "data": {
      "application/vnd.plotly.v1+json": {
       "config": {
        "plotlyServerURL": "https://plot.ly"
       },
       "data": [
        {
         "marker": {
          "color": "rgb(215,25,28)"
         },
         "name": "Very dissatisfied",
         "orientation": "h",
         "type": "bar",
         "x": [
          -2170,
          -2261
         ],
         "y": [
          "United States",
          "Europe"
         ]
        },
        {
         "marker": {
          "color": "rgb(253,174,97)"
         },
         "name": "Slightly dissatisfied",
         "orientation": "h",
         "type": "bar",
         "x": [
          -6393,
          -6972
         ],
         "y": [
          "United States",
          "Europe"
         ]
        },
        {
         "marker": {
          "color": "rgb(255,255,191)"
         },
         "name": "Neither satisfied nor dissatisfied",
         "orientation": "h",
         "type": "bar",
         "x": [
          3265,
          3706
         ],
         "y": [
          "United States",
          "Europe"
         ]
        },
        {
         "marker": {
          "color": "rgb(166,217,106)"
         },
         "name": "Slightly satisfied",
         "orientation": "h",
         "type": "bar",
         "x": [
          16349,
          18322
         ],
         "y": [
          "United States",
          "Europe"
         ]
        },
        {
         "marker": {
          "color": "rgb(26,150,65)"
         },
         "name": "Very satisfied",
         "orientation": "h",
         "type": "bar",
         "x": [
          14998,
          13153
         ],
         "y": [
          "United States",
          "Europe"
         ]
        }
       ],
       "layout": {
        "bargap": 0.3,
        "barmode": "relative",
        "height": 450,
        "template": {
         "data": {
          "bar": [
           {
            "error_x": {
             "color": "#2a3f5f"
            },
            "error_y": {
             "color": "#2a3f5f"
            },
            "marker": {
             "line": {
              "color": "#E5ECF6",
              "width": 0.5
             },
             "pattern": {
              "fillmode": "overlay",
              "size": 10,
              "solidity": 0.2
             }
            },
            "type": "bar"
           }
          ],
          "barpolar": [
           {
            "marker": {
             "line": {
              "color": "#E5ECF6",
              "width": 0.5
             },
             "pattern": {
              "fillmode": "overlay",
              "size": 10,
              "solidity": 0.2
             }
            },
            "type": "barpolar"
           }
          ],
          "carpet": [
           {
            "aaxis": {
             "endlinecolor": "#2a3f5f",
             "gridcolor": "white",
             "linecolor": "white",
             "minorgridcolor": "white",
             "startlinecolor": "#2a3f5f"
            },
            "baxis": {
             "endlinecolor": "#2a3f5f",
             "gridcolor": "white",
             "linecolor": "white",
             "minorgridcolor": "white",
             "startlinecolor": "#2a3f5f"
            },
            "type": "carpet"
           }
          ],
          "choropleth": [
           {
            "colorbar": {
             "outlinewidth": 0,
             "ticks": ""
            },
            "type": "choropleth"
           }
          ],
          "contour": [
           {
            "colorbar": {
             "outlinewidth": 0,
             "ticks": ""
            },
            "colorscale": [
             [
              0,
              "#0d0887"
             ],
             [
              0.1111111111111111,
              "#46039f"
             ],
             [
              0.2222222222222222,
              "#7201a8"
             ],
             [
              0.3333333333333333,
              "#9c179e"
             ],
             [
              0.4444444444444444,
              "#bd3786"
             ],
             [
              0.5555555555555556,
              "#d8576b"
             ],
             [
              0.6666666666666666,
              "#ed7953"
             ],
             [
              0.7777777777777778,
              "#fb9f3a"
             ],
             [
              0.8888888888888888,
              "#fdca26"
             ],
             [
              1,
              "#f0f921"
             ]
            ],
            "type": "contour"
           }
          ],
          "contourcarpet": [
           {
            "colorbar": {
             "outlinewidth": 0,
             "ticks": ""
            },
            "type": "contourcarpet"
           }
          ],
          "heatmap": [
           {
            "colorbar": {
             "outlinewidth": 0,
             "ticks": ""
            },
            "colorscale": [
             [
              0,
              "#0d0887"
             ],
             [
              0.1111111111111111,
              "#46039f"
             ],
             [
              0.2222222222222222,
              "#7201a8"
             ],
             [
              0.3333333333333333,
              "#9c179e"
             ],
             [
              0.4444444444444444,
              "#bd3786"
             ],
             [
              0.5555555555555556,
              "#d8576b"
             ],
             [
              0.6666666666666666,
              "#ed7953"
             ],
             [
              0.7777777777777778,
              "#fb9f3a"
             ],
             [
              0.8888888888888888,
              "#fdca26"
             ],
             [
              1,
              "#f0f921"
             ]
            ],
            "type": "heatmap"
           }
          ],
          "heatmapgl": [
           {
            "colorbar": {
             "outlinewidth": 0,
             "ticks": ""
            },
            "colorscale": [
             [
              0,
              "#0d0887"
             ],
             [
              0.1111111111111111,
              "#46039f"
             ],
             [
              0.2222222222222222,
              "#7201a8"
             ],
             [
              0.3333333333333333,
              "#9c179e"
             ],
             [
              0.4444444444444444,
              "#bd3786"
             ],
             [
              0.5555555555555556,
              "#d8576b"
             ],
             [
              0.6666666666666666,
              "#ed7953"
             ],
             [
              0.7777777777777778,
              "#fb9f3a"
             ],
             [
              0.8888888888888888,
              "#fdca26"
             ],
             [
              1,
              "#f0f921"
             ]
            ],
            "type": "heatmapgl"
           }
          ],
          "histogram": [
           {
            "marker": {
             "pattern": {
              "fillmode": "overlay",
              "size": 10,
              "solidity": 0.2
             }
            },
            "type": "histogram"
           }
          ],
          "histogram2d": [
           {
            "colorbar": {
             "outlinewidth": 0,
             "ticks": ""
            },
            "colorscale": [
             [
              0,
              "#0d0887"
             ],
             [
              0.1111111111111111,
              "#46039f"
             ],
             [
              0.2222222222222222,
              "#7201a8"
             ],
             [
              0.3333333333333333,
              "#9c179e"
             ],
             [
              0.4444444444444444,
              "#bd3786"
             ],
             [
              0.5555555555555556,
              "#d8576b"
             ],
             [
              0.6666666666666666,
              "#ed7953"
             ],
             [
              0.7777777777777778,
              "#fb9f3a"
             ],
             [
              0.8888888888888888,
              "#fdca26"
             ],
             [
              1,
              "#f0f921"
             ]
            ],
            "type": "histogram2d"
           }
          ],
          "histogram2dcontour": [
           {
            "colorbar": {
             "outlinewidth": 0,
             "ticks": ""
            },
            "colorscale": [
             [
              0,
              "#0d0887"
             ],
             [
              0.1111111111111111,
              "#46039f"
             ],
             [
              0.2222222222222222,
              "#7201a8"
             ],
             [
              0.3333333333333333,
              "#9c179e"
             ],
             [
              0.4444444444444444,
              "#bd3786"
             ],
             [
              0.5555555555555556,
              "#d8576b"
             ],
             [
              0.6666666666666666,
              "#ed7953"
             ],
             [
              0.7777777777777778,
              "#fb9f3a"
             ],
             [
              0.8888888888888888,
              "#fdca26"
             ],
             [
              1,
              "#f0f921"
             ]
            ],
            "type": "histogram2dcontour"
           }
          ],
          "mesh3d": [
           {
            "colorbar": {
             "outlinewidth": 0,
             "ticks": ""
            },
            "type": "mesh3d"
           }
          ],
          "parcoords": [
           {
            "line": {
             "colorbar": {
              "outlinewidth": 0,
              "ticks": ""
             }
            },
            "type": "parcoords"
           }
          ],
          "pie": [
           {
            "automargin": true,
            "type": "pie"
           }
          ],
          "scatter": [
           {
            "fillpattern": {
             "fillmode": "overlay",
             "size": 10,
             "solidity": 0.2
            },
            "type": "scatter"
           }
          ],
          "scatter3d": [
           {
            "line": {
             "colorbar": {
              "outlinewidth": 0,
              "ticks": ""
             }
            },
            "marker": {
             "colorbar": {
              "outlinewidth": 0,
              "ticks": ""
             }
            },
            "type": "scatter3d"
           }
          ],
          "scattercarpet": [
           {
            "marker": {
             "colorbar": {
              "outlinewidth": 0,
              "ticks": ""
             }
            },
            "type": "scattercarpet"
           }
          ],
          "scattergeo": [
           {
            "marker": {
             "colorbar": {
              "outlinewidth": 0,
              "ticks": ""
             }
            },
            "type": "scattergeo"
           }
          ],
          "scattergl": [
           {
            "marker": {
             "colorbar": {
              "outlinewidth": 0,
              "ticks": ""
             }
            },
            "type": "scattergl"
           }
          ],
          "scattermapbox": [
           {
            "marker": {
             "colorbar": {
              "outlinewidth": 0,
              "ticks": ""
             }
            },
            "type": "scattermapbox"
           }
          ],
          "scatterpolar": [
           {
            "marker": {
             "colorbar": {
              "outlinewidth": 0,
              "ticks": ""
             }
            },
            "type": "scatterpolar"
           }
          ],
          "scatterpolargl": [
           {
            "marker": {
             "colorbar": {
              "outlinewidth": 0,
              "ticks": ""
             }
            },
            "type": "scatterpolargl"
           }
          ],
          "scatterternary": [
           {
            "marker": {
             "colorbar": {
              "outlinewidth": 0,
              "ticks": ""
             }
            },
            "type": "scatterternary"
           }
          ],
          "surface": [
           {
            "colorbar": {
             "outlinewidth": 0,
             "ticks": ""
            },
            "colorscale": [
             [
              0,
              "#0d0887"
             ],
             [
              0.1111111111111111,
              "#46039f"
             ],
             [
              0.2222222222222222,
              "#7201a8"
             ],
             [
              0.3333333333333333,
              "#9c179e"
             ],
             [
              0.4444444444444444,
              "#bd3786"
             ],
             [
              0.5555555555555556,
              "#d8576b"
             ],
             [
              0.6666666666666666,
              "#ed7953"
             ],
             [
              0.7777777777777778,
              "#fb9f3a"
             ],
             [
              0.8888888888888888,
              "#fdca26"
             ],
             [
              1,
              "#f0f921"
             ]
            ],
            "type": "surface"
           }
          ],
          "table": [
           {
            "cells": {
             "fill": {
              "color": "#EBF0F8"
             },
             "line": {
              "color": "white"
             }
            },
            "header": {
             "fill": {
              "color": "#C8D4E3"
             },
             "line": {
              "color": "white"
             }
            },
            "type": "table"
           }
          ]
         },
         "layout": {
          "annotationdefaults": {
           "arrowcolor": "#2a3f5f",
           "arrowhead": 0,
           "arrowwidth": 1
          },
          "autotypenumbers": "strict",
          "coloraxis": {
           "colorbar": {
            "outlinewidth": 0,
            "ticks": ""
           }
          },
          "colorscale": {
           "diverging": [
            [
             0,
             "#8e0152"
            ],
            [
             0.1,
             "#c51b7d"
            ],
            [
             0.2,
             "#de77ae"
            ],
            [
             0.3,
             "#f1b6da"
            ],
            [
             0.4,
             "#fde0ef"
            ],
            [
             0.5,
             "#f7f7f7"
            ],
            [
             0.6,
             "#e6f5d0"
            ],
            [
             0.7,
             "#b8e186"
            ],
            [
             0.8,
             "#7fbc41"
            ],
            [
             0.9,
             "#4d9221"
            ],
            [
             1,
             "#276419"
            ]
           ],
           "sequential": [
            [
             0,
             "#0d0887"
            ],
            [
             0.1111111111111111,
             "#46039f"
            ],
            [
             0.2222222222222222,
             "#7201a8"
            ],
            [
             0.3333333333333333,
             "#9c179e"
            ],
            [
             0.4444444444444444,
             "#bd3786"
            ],
            [
             0.5555555555555556,
             "#d8576b"
            ],
            [
             0.6666666666666666,
             "#ed7953"
            ],
            [
             0.7777777777777778,
             "#fb9f3a"
            ],
            [
             0.8888888888888888,
             "#fdca26"
            ],
            [
             1,
             "#f0f921"
            ]
           ],
           "sequentialminus": [
            [
             0,
             "#0d0887"
            ],
            [
             0.1111111111111111,
             "#46039f"
            ],
            [
             0.2222222222222222,
             "#7201a8"
            ],
            [
             0.3333333333333333,
             "#9c179e"
            ],
            [
             0.4444444444444444,
             "#bd3786"
            ],
            [
             0.5555555555555556,
             "#d8576b"
            ],
            [
             0.6666666666666666,
             "#ed7953"
            ],
            [
             0.7777777777777778,
             "#fb9f3a"
            ],
            [
             0.8888888888888888,
             "#fdca26"
            ],
            [
             1,
             "#f0f921"
            ]
           ]
          },
          "colorway": [
           "#636efa",
           "#EF553B",
           "#00cc96",
           "#ab63fa",
           "#FFA15A",
           "#19d3f3",
           "#FF6692",
           "#B6E880",
           "#FF97FF",
           "#FECB52"
          ],
          "font": {
           "color": "#2a3f5f"
          },
          "geo": {
           "bgcolor": "white",
           "lakecolor": "white",
           "landcolor": "#E5ECF6",
           "showlakes": true,
           "showland": true,
           "subunitcolor": "white"
          },
          "hoverlabel": {
           "align": "left"
          },
          "hovermode": "closest",
          "mapbox": {
           "style": "light"
          },
          "paper_bgcolor": "white",
          "plot_bgcolor": "#E5ECF6",
          "polar": {
           "angularaxis": {
            "gridcolor": "white",
            "linecolor": "white",
            "ticks": ""
           },
           "bgcolor": "#E5ECF6",
           "radialaxis": {
            "gridcolor": "white",
            "linecolor": "white",
            "ticks": ""
           }
          },
          "scene": {
           "xaxis": {
            "backgroundcolor": "#E5ECF6",
            "gridcolor": "white",
            "gridwidth": 2,
            "linecolor": "white",
            "showbackground": true,
            "ticks": "",
            "zerolinecolor": "white"
           },
           "yaxis": {
            "backgroundcolor": "#E5ECF6",
            "gridcolor": "white",
            "gridwidth": 2,
            "linecolor": "white",
            "showbackground": true,
            "ticks": "",
            "zerolinecolor": "white"
           },
           "zaxis": {
            "backgroundcolor": "#E5ECF6",
            "gridcolor": "white",
            "gridwidth": 2,
            "linecolor": "white",
            "showbackground": true,
            "ticks": "",
            "zerolinecolor": "white"
           }
          },
          "shapedefaults": {
           "line": {
            "color": "#2a3f5f"
           }
          },
          "ternary": {
           "aaxis": {
            "gridcolor": "white",
            "linecolor": "white",
            "ticks": ""
           },
           "baxis": {
            "gridcolor": "white",
            "linecolor": "white",
            "ticks": ""
           },
           "bgcolor": "#E5ECF6",
           "caxis": {
            "gridcolor": "white",
            "linecolor": "white",
            "ticks": ""
           }
          },
          "title": {
           "x": 0.05
          },
          "xaxis": {
           "automargin": true,
           "gridcolor": "white",
           "linecolor": "white",
           "ticks": "",
           "title": {
            "standoff": 15
           },
           "zerolinecolor": "white",
           "zerolinewidth": 2
          },
          "yaxis": {
           "automargin": true,
           "gridcolor": "white",
           "linecolor": "white",
           "ticks": "",
           "title": {
            "standoff": 15
           },
           "zerolinecolor": "white",
           "zerolinewidth": 2
          }
         }
        },
        "title": {
         "text": "Stackoverflow Sentiment Analysis"
        },
        "width": 1400
       }
      }
     },
     "metadata": {},
     "output_type": "display_data"
    }
   ],
   "source": [
    "#Create a Diverging Stack Bar Chart\n",
    "\n",
    "fig = go.Figure()\n",
    "\n",
    "for column in df_all_jobsat_pivoted.columns:\n",
    "    fig.add_trace(go.Bar(\n",
    "        x = df_all_jobsat_pivoted[column],\n",
    "        y = df_all_jobsat_pivoted.index,\n",
    "        name = column,\n",
    "        orientation = 'h',\n",
    "        marker_color = cl.scales[str(len(category_order))]['div']['RdYlGn'][category_order.index(column)],\n",
    "    ))\n",
    "    \n",
    "fig.update_layout(\n",
    "    barmode = 'relative',\n",
    "    height=450,\n",
    "    width=1400,\n",
    "    bargap=0.3 ,\n",
    "    title = 'Stackoverflow Sentiment Analysis' \n",
    "   \n",
    ")\n",
    "fig.show()\n"
   ]
  },
  {
   "cell_type": "markdown",
   "metadata": {},
   "source": [
    "- Since data is not distributed normally I can use Mann-Whitney test to test for difference between groups"
   ]
  },
  {
   "cell_type": "code",
   "execution_count": 121,
   "metadata": {},
   "outputs": [
    {
     "data": {
      "image/png": "[encoded data removed]",
      "text/plain": [
       "<Figure size 432x288 with 1 Axes>"
      ]
     },
     "metadata": {
      "needs_background": "light"
     },
     "output_type": "display_data"
    }
   ],
   "source": [
    "# distribution of Jobsatisfaction for Europe\n",
    "df_all_jobsat['JobSatisfaction'][df_all_jobsat['Continent'] == 'Europe'].hist();"
   ]
  },
  {
   "cell_type": "code",
   "execution_count": 122,
   "metadata": {},
   "outputs": [
    {
     "data": {
      "image/png": "[encoded data removed]",
      "text/plain": [
       "<Figure size 432x288 with 1 Axes>"
      ]
     },
     "metadata": {
      "needs_background": "light"
     },
     "output_type": "display_data"
    }
   ],
   "source": [
    "# distribution of Jobsatisfaction for USA\n",
    "df_all_jobsat['JobSatisfaction'][df_all_jobsat['Continent'] == 'United States'].hist();"
   ]
  },
  {
   "cell_type": "code",
   "execution_count": 123,
   "metadata": {},
   "outputs": [
    {
     "data": {
      "text/plain": [
       "MannwhitneyuResult(statistic=908328128.0, pvalue=3.8457666415673024e-46)"
      ]
     },
     "execution_count": 123,
     "metadata": {},
     "output_type": "execute_result"
    }
   ],
   "source": [
    "df_Europe = df_all_jobsat.loc[ (df_all_jobsat['Continent'] == 'Europe')]\n",
    "df_USA = df_all_jobsat.loc[ (df_all_jobsat['Continent'] == 'United States')] \n",
    "mannwhitneyu(df_Europe['JobSatisfaction']  , df_USA['JobSatisfaction'])   "
   ]
  },
  {
   "cell_type": "markdown",
   "metadata": {},
   "source": [
    "p-value is less than 0.05 hence the groups are statistically significant differently from each-other.\n",
    "\n",
    "- The Mann-Whitney test will be used to test if there is a difference between two categories in an ordinal variable. This process is completed by comparing the ranks of each group. Ranks are \n",
    " determined by fist sorting all the scores in the ordinal variable, then the lowest score gets rank 1 , the next one rank 2 etc. The highest rank possible is total number of cases. If two or  more scores are the same, the average of the ranks they would have gotten is used. If for example the fourth score is a 9, the fifth is a 9 and the sixth is a 9, then the rank for score four,  five and six will each be (4+5+6)/3 = 5"
   ]
  },
  {
   "cell_type": "markdown",
   "metadata": {},
   "source": [
    "------------------------------"
   ]
  },
  {
   "cell_type": "markdown",
   "metadata": {},
   "source": [
    "2. Trend line from year 2018 until 2020 for both continents "
   ]
  },
  {
   "cell_type": "code",
   "execution_count": 124,
   "metadata": {},
   "outputs": [],
   "source": [
    "# Convert Categorical Data to ordinal\n",
    "\n",
    "df_all_jobsat.loc[df_all_jobsat['JobSatisfaction'] == 'Very dissatisfied' , 'JobSatisfaction' ]  = 1\n",
    "df_all_jobsat.loc[df_all_jobsat['JobSatisfaction'] == 'Slightly dissatisfied' , 'JobSatisfaction' ]  = 2\n",
    "df_all_jobsat.loc[df_all_jobsat['JobSatisfaction'] == 'Neither satisfied nor dissatisfied' , 'JobSatisfaction' ]  = 3\n",
    "df_all_jobsat.loc[df_all_jobsat['JobSatisfaction'] == 'Neither satisfied nor dissatisfied' , 'JobSatisfaction' ]  = 3\n",
    "df_all_jobsat.loc[df_all_jobsat['JobSatisfaction'] == 'Slightly satisfied' , 'JobSatisfaction' ]  = 4\n",
    "df_all_jobsat.loc[df_all_jobsat['JobSatisfaction'] == 'Very satisfied' , 'JobSatisfaction' ]  = 5\n"
   ]
  },
  {
   "cell_type": "code",
   "execution_count": 125,
   "metadata": {},
   "outputs": [
    {
     "data": {
      "image/png": "[encoded data removed]",
      "text/plain": [
       "<Figure size 792x432 with 1 Axes>"
      ]
     },
     "metadata": {
      "needs_background": "light"
     },
     "output_type": "display_data"
    }
   ],
   "source": [
    "# Convert year from string to datetime\n",
    "df_all_jobsat.Year = pd.to_datetime(df_all_jobsat.Year , format = '%Y')   \n",
    "\n",
    "# Get the mean of based on Continent and Year\n",
    "df_all_yearly_avg = df_all_jobsat.groupby(['Continent','Year']).mean()['JobSatisfaction_Ordinal']\n",
    "\n",
    "# Create a pivot table with continents as columns and their mean values as rows\n",
    "df_all_yearly_avg = df_all_yearly_avg.unstack(level='Continent')\n",
    "df_all_yearly_avg.columns.name = 'Continents'\n",
    "\n",
    "# Plot the data\n",
    "ax = df_all_yearly_avg.plot(figsize=(11, 6)  );\n",
    "ax.set_xlabel('Year', fontsize=14);\n",
    "ax.set_title(\"Average Job Satisfaction Comparison\" , fontsize=14);\n",
    "\n",
    "\n"
   ]
  },
  {
   "cell_type": "markdown",
   "metadata": {},
   "source": [
    "- Which are the most important aspects listed each category ('Very dissatisfied' ,'Slightly dissatisfied' , 'Neither satisfied nor dissatisfied' ,'Slightly satisfied' , 'Very satisfied') , lists as most important when assessin for a potential job opportunity. "
   ]
  },
  {
   "cell_type": "code",
   "execution_count": 126,
   "metadata": {},
   "outputs": [
    {
     "data": {
      "text/html": [
       "<div>\n",
       "<style scoped>\n",
       "    .dataframe tbody tr th:only-of-type {\n",
       "        vertical-align: middle;\n",
       "    }\n",
       "\n",
       "    .dataframe tbody tr th {\n",
       "        vertical-align: top;\n",
       "    }\n",
       "\n",
       "    .dataframe thead th {\n",
       "        text-align: right;\n",
       "    }\n",
       "</style>\n",
       "<table border=\"1\" class=\"dataframe\">\n",
       "  <thead>\n",
       "    <tr style=\"text-align: right;\">\n",
       "      <th></th>\n",
       "      <th>Continent</th>\n",
       "      <th>JobSatisfaction</th>\n",
       "      <th>Year</th>\n",
       "      <th>JobSatisfaction_Ordinal</th>\n",
       "      <th>row_num</th>\n",
       "    </tr>\n",
       "  </thead>\n",
       "  <tbody>\n",
       "    <tr>\n",
       "      <th>0</th>\n",
       "      <td>Europe</td>\n",
       "      <td>4</td>\n",
       "      <td>2020-01-01</td>\n",
       "      <td>4.0</td>\n",
       "      <td>0</td>\n",
       "    </tr>\n",
       "    <tr>\n",
       "      <th>1</th>\n",
       "      <td>Europe</td>\n",
       "      <td>1</td>\n",
       "      <td>2020-01-01</td>\n",
       "      <td>1.0</td>\n",
       "      <td>1</td>\n",
       "    </tr>\n",
       "    <tr>\n",
       "      <th>2</th>\n",
       "      <td>Europe</td>\n",
       "      <td>4</td>\n",
       "      <td>2020-01-01</td>\n",
       "      <td>4.0</td>\n",
       "      <td>2</td>\n",
       "    </tr>\n",
       "    <tr>\n",
       "      <th>3</th>\n",
       "      <td>United States</td>\n",
       "      <td>2</td>\n",
       "      <td>2020-01-01</td>\n",
       "      <td>2.0</td>\n",
       "      <td>3</td>\n",
       "    </tr>\n",
       "    <tr>\n",
       "      <th>4</th>\n",
       "      <td>Europe</td>\n",
       "      <td>5</td>\n",
       "      <td>2020-01-01</td>\n",
       "      <td>5.0</td>\n",
       "      <td>4</td>\n",
       "    </tr>\n",
       "    <tr>\n",
       "      <th>...</th>\n",
       "      <td>...</td>\n",
       "      <td>...</td>\n",
       "      <td>...</td>\n",
       "      <td>...</td>\n",
       "      <td>...</td>\n",
       "    </tr>\n",
       "    <tr>\n",
       "      <th>87584</th>\n",
       "      <td>United States</td>\n",
       "      <td>4</td>\n",
       "      <td>2018-01-01</td>\n",
       "      <td>4.0</td>\n",
       "      <td>87584</td>\n",
       "    </tr>\n",
       "    <tr>\n",
       "      <th>87585</th>\n",
       "      <td>United States</td>\n",
       "      <td>4</td>\n",
       "      <td>2018-01-01</td>\n",
       "      <td>4.0</td>\n",
       "      <td>87585</td>\n",
       "    </tr>\n",
       "    <tr>\n",
       "      <th>87586</th>\n",
       "      <td>Europe</td>\n",
       "      <td>2</td>\n",
       "      <td>2018-01-01</td>\n",
       "      <td>2.0</td>\n",
       "      <td>87586</td>\n",
       "    </tr>\n",
       "    <tr>\n",
       "      <th>87587</th>\n",
       "      <td>Europe</td>\n",
       "      <td>2</td>\n",
       "      <td>2018-01-01</td>\n",
       "      <td>2.0</td>\n",
       "      <td>87587</td>\n",
       "    </tr>\n",
       "    <tr>\n",
       "      <th>87588</th>\n",
       "      <td>United States</td>\n",
       "      <td>2</td>\n",
       "      <td>2018-01-01</td>\n",
       "      <td>2.0</td>\n",
       "      <td>87588</td>\n",
       "    </tr>\n",
       "  </tbody>\n",
       "</table>\n",
       "<p>87589 rows × 5 columns</p>\n",
       "</div>"
      ],
      "text/plain": [
       "           Continent JobSatisfaction       Year  JobSatisfaction_Ordinal  \\\n",
       "0             Europe               4 2020-01-01                      4.0   \n",
       "1             Europe               1 2020-01-01                      1.0   \n",
       "2             Europe               4 2020-01-01                      4.0   \n",
       "3      United States               2 2020-01-01                      2.0   \n",
       "4             Europe               5 2020-01-01                      5.0   \n",
       "...              ...             ...        ...                      ...   \n",
       "87584  United States               4 2018-01-01                      4.0   \n",
       "87585  United States               4 2018-01-01                      4.0   \n",
       "87586         Europe               2 2018-01-01                      2.0   \n",
       "87587         Europe               2 2018-01-01                      2.0   \n",
       "87588  United States               2 2018-01-01                      2.0   \n",
       "\n",
       "       row_num  \n",
       "0            0  \n",
       "1            1  \n",
       "2            2  \n",
       "3            3  \n",
       "4            4  \n",
       "...        ...  \n",
       "87584    87584  \n",
       "87585    87585  \n",
       "87586    87586  \n",
       "87587    87587  \n",
       "87588    87588  \n",
       "\n",
       "[87589 rows x 5 columns]"
      ]
     },
     "execution_count": 126,
     "metadata": {},
     "output_type": "execute_result"
    }
   ],
   "source": [
    "df_all_jobsat"
   ]
  },
  {
   "cell_type": "markdown",
   "metadata": {},
   "source": [
    "-----------------------------"
   ]
  },
  {
   "cell_type": "markdown",
   "metadata": {},
   "source": [
    "- 3. For year 2020 find which are top job factors for each gender"
   ]
  },
  {
   "cell_type": "code",
   "execution_count": 127,
   "metadata": {},
   "outputs": [
    {
     "data": {
      "text/plain": [
       "(46007, 3)"
      ]
     },
     "execution_count": 127,
     "metadata": {},
     "output_type": "execute_result"
    }
   ],
   "source": [
    "# get the required fields\n",
    "df_job_top_factors = df_2020[[ 'Respondent' , 'Gender' , 'JobFactors']]\n",
    "df_job_top_factors = df_job_top_factors.dropna(how='any')\n",
    "df_job_top_factors.shape\n"
   ]
  },
  {
   "cell_type": "code",
   "execution_count": 128,
   "metadata": {},
   "outputs": [
    {
     "data": {
      "text/plain": [
       "Man                                                            41866\n",
       "Woman                                                           3532\n",
       "Non-binary, genderqueer, or gender non-conforming                340\n",
       "Man;Non-binary, genderqueer, or gender non-conforming            107\n",
       "Woman;Non-binary, genderqueer, or gender non-conforming           78\n",
       "Woman;Man                                                         66\n",
       "Woman;Man;Non-binary, genderqueer, or gender non-conforming       18\n",
       "Name: Gender, dtype: int64"
      ]
     },
     "execution_count": 128,
     "metadata": {},
     "output_type": "execute_result"
    }
   ],
   "source": [
    "df_job_top_factors['Gender'].value_counts()"
   ]
  },
  {
   "cell_type": "markdown",
   "metadata": {},
   "source": [
    "- If the Gender is different from Man and Woman then rename it as Non-Binary"
   ]
  },
  {
   "cell_type": "code",
   "execution_count": 129,
   "metadata": {},
   "outputs": [
    {
     "data": {
      "text/plain": [
       "Man           41866\n",
       "Woman          3532\n",
       "Non-Binary      609\n",
       "Name: Gender, dtype: int64"
      ]
     },
     "execution_count": 129,
     "metadata": {},
     "output_type": "execute_result"
    }
   ],
   "source": [
    "df_job_top_factors.loc[~ ((df_job_top_factors['Gender'] == 'Man') | (df_job_top_factors['Gender'] == 'Woman')) , 'Gender'] = 'Non-Binary'\n",
    "df_job_top_factors['Gender'].value_counts()"
   ]
  },
  {
   "cell_type": "code",
   "execution_count": 130,
   "metadata": {},
   "outputs": [],
   "source": [
    "df_factors_dummies = df_job_top_factors['JobFactors'].str.get_dummies(sep = ';')\n",
    "\n",
    "\n",
    "df_dummies_final = pd.concat([df_factors_dummies, df_job_top_factors['Gender']], axis=1)"
   ]
  },
  {
   "cell_type": "code",
   "execution_count": 131,
   "metadata": {},
   "outputs": [
    {
     "data": {
      "text/html": [
       "<div>\n",
       "<style scoped>\n",
       "    .dataframe tbody tr th:only-of-type {\n",
       "        vertical-align: middle;\n",
       "    }\n",
       "\n",
       "    .dataframe tbody tr th {\n",
       "        vertical-align: top;\n",
       "    }\n",
       "\n",
       "    .dataframe thead th {\n",
       "        text-align: right;\n",
       "    }\n",
       "</style>\n",
       "<table border=\"1\" class=\"dataframe\">\n",
       "  <thead>\n",
       "    <tr style=\"text-align: right;\">\n",
       "      <th></th>\n",
       "      <th>Diversity of the company or organization</th>\n",
       "      <th>Family friendliness</th>\n",
       "      <th>Financial performance or funding status of the company or organization</th>\n",
       "      <th>Flex time or a flexible schedule</th>\n",
       "      <th>How widely used or impactful my work output would be</th>\n",
       "      <th>Industry that I’d be working in</th>\n",
       "      <th>Languages, frameworks, and other technologies I’d be working with</th>\n",
       "      <th>Office environment or company culture</th>\n",
       "      <th>Opportunities for professional development</th>\n",
       "      <th>Remote work options</th>\n",
       "      <th>Specific department or team I’d be working on</th>\n",
       "      <th>Gender</th>\n",
       "    </tr>\n",
       "  </thead>\n",
       "  <tbody>\n",
       "    <tr>\n",
       "      <th>0</th>\n",
       "      <td>0</td>\n",
       "      <td>0</td>\n",
       "      <td>0</td>\n",
       "      <td>0</td>\n",
       "      <td>0</td>\n",
       "      <td>0</td>\n",
       "      <td>1</td>\n",
       "      <td>0</td>\n",
       "      <td>1</td>\n",
       "      <td>1</td>\n",
       "      <td>0</td>\n",
       "      <td>Man</td>\n",
       "    </tr>\n",
       "    <tr>\n",
       "      <th>3</th>\n",
       "      <td>0</td>\n",
       "      <td>0</td>\n",
       "      <td>0</td>\n",
       "      <td>1</td>\n",
       "      <td>0</td>\n",
       "      <td>0</td>\n",
       "      <td>0</td>\n",
       "      <td>1</td>\n",
       "      <td>1</td>\n",
       "      <td>0</td>\n",
       "      <td>0</td>\n",
       "      <td>Man</td>\n",
       "    </tr>\n",
       "    <tr>\n",
       "      <th>5</th>\n",
       "      <td>1</td>\n",
       "      <td>0</td>\n",
       "      <td>0</td>\n",
       "      <td>0</td>\n",
       "      <td>0</td>\n",
       "      <td>0</td>\n",
       "      <td>1</td>\n",
       "      <td>1</td>\n",
       "      <td>0</td>\n",
       "      <td>0</td>\n",
       "      <td>0</td>\n",
       "      <td>Man</td>\n",
       "    </tr>\n",
       "    <tr>\n",
       "      <th>7</th>\n",
       "      <td>0</td>\n",
       "      <td>1</td>\n",
       "      <td>0</td>\n",
       "      <td>0</td>\n",
       "      <td>0</td>\n",
       "      <td>0</td>\n",
       "      <td>0</td>\n",
       "      <td>0</td>\n",
       "      <td>1</td>\n",
       "      <td>1</td>\n",
       "      <td>0</td>\n",
       "      <td>Man</td>\n",
       "    </tr>\n",
       "    <tr>\n",
       "      <th>8</th>\n",
       "      <td>1</td>\n",
       "      <td>0</td>\n",
       "      <td>0</td>\n",
       "      <td>0</td>\n",
       "      <td>0</td>\n",
       "      <td>0</td>\n",
       "      <td>0</td>\n",
       "      <td>1</td>\n",
       "      <td>0</td>\n",
       "      <td>1</td>\n",
       "      <td>0</td>\n",
       "      <td>Man</td>\n",
       "    </tr>\n",
       "    <tr>\n",
       "      <th>...</th>\n",
       "      <td>...</td>\n",
       "      <td>...</td>\n",
       "      <td>...</td>\n",
       "      <td>...</td>\n",
       "      <td>...</td>\n",
       "      <td>...</td>\n",
       "      <td>...</td>\n",
       "      <td>...</td>\n",
       "      <td>...</td>\n",
       "      <td>...</td>\n",
       "      <td>...</td>\n",
       "      <td>...</td>\n",
       "    </tr>\n",
       "    <tr>\n",
       "      <th>63955</th>\n",
       "      <td>1</td>\n",
       "      <td>0</td>\n",
       "      <td>0</td>\n",
       "      <td>0</td>\n",
       "      <td>0</td>\n",
       "      <td>1</td>\n",
       "      <td>1</td>\n",
       "      <td>0</td>\n",
       "      <td>0</td>\n",
       "      <td>0</td>\n",
       "      <td>0</td>\n",
       "      <td>Man</td>\n",
       "    </tr>\n",
       "    <tr>\n",
       "      <th>64004</th>\n",
       "      <td>0</td>\n",
       "      <td>0</td>\n",
       "      <td>0</td>\n",
       "      <td>1</td>\n",
       "      <td>0</td>\n",
       "      <td>0</td>\n",
       "      <td>1</td>\n",
       "      <td>0</td>\n",
       "      <td>1</td>\n",
       "      <td>0</td>\n",
       "      <td>0</td>\n",
       "      <td>Man</td>\n",
       "    </tr>\n",
       "    <tr>\n",
       "      <th>64036</th>\n",
       "      <td>0</td>\n",
       "      <td>0</td>\n",
       "      <td>0</td>\n",
       "      <td>0</td>\n",
       "      <td>0</td>\n",
       "      <td>0</td>\n",
       "      <td>1</td>\n",
       "      <td>1</td>\n",
       "      <td>1</td>\n",
       "      <td>0</td>\n",
       "      <td>0</td>\n",
       "      <td>Man</td>\n",
       "    </tr>\n",
       "    <tr>\n",
       "      <th>64111</th>\n",
       "      <td>0</td>\n",
       "      <td>0</td>\n",
       "      <td>0</td>\n",
       "      <td>0</td>\n",
       "      <td>0</td>\n",
       "      <td>0</td>\n",
       "      <td>0</td>\n",
       "      <td>1</td>\n",
       "      <td>0</td>\n",
       "      <td>0</td>\n",
       "      <td>0</td>\n",
       "      <td>Man</td>\n",
       "    </tr>\n",
       "    <tr>\n",
       "      <th>64152</th>\n",
       "      <td>0</td>\n",
       "      <td>0</td>\n",
       "      <td>0</td>\n",
       "      <td>1</td>\n",
       "      <td>0</td>\n",
       "      <td>0</td>\n",
       "      <td>1</td>\n",
       "      <td>0</td>\n",
       "      <td>0</td>\n",
       "      <td>1</td>\n",
       "      <td>0</td>\n",
       "      <td>Man</td>\n",
       "    </tr>\n",
       "  </tbody>\n",
       "</table>\n",
       "<p>46007 rows × 12 columns</p>\n",
       "</div>"
      ],
      "text/plain": [
       "       Diversity of the company or organization  Family friendliness  \\\n",
       "0                                             0                    0   \n",
       "3                                             0                    0   \n",
       "5                                             1                    0   \n",
       "7                                             0                    1   \n",
       "8                                             1                    0   \n",
       "...                                         ...                  ...   \n",
       "63955                                         1                    0   \n",
       "64004                                         0                    0   \n",
       "64036                                         0                    0   \n",
       "64111                                         0                    0   \n",
       "64152                                         0                    0   \n",
       "\n",
       "       Financial performance or funding status of the company or organization  \\\n",
       "0                                                      0                        \n",
       "3                                                      0                        \n",
       "5                                                      0                        \n",
       "7                                                      0                        \n",
       "8                                                      0                        \n",
       "...                                                  ...                        \n",
       "63955                                                  0                        \n",
       "64004                                                  0                        \n",
       "64036                                                  0                        \n",
       "64111                                                  0                        \n",
       "64152                                                  0                        \n",
       "\n",
       "       Flex time or a flexible schedule  \\\n",
       "0                                     0   \n",
       "3                                     1   \n",
       "5                                     0   \n",
       "7                                     0   \n",
       "8                                     0   \n",
       "...                                 ...   \n",
       "63955                                 0   \n",
       "64004                                 1   \n",
       "64036                                 0   \n",
       "64111                                 0   \n",
       "64152                                 1   \n",
       "\n",
       "       How widely used or impactful my work output would be  \\\n",
       "0                                                      0      \n",
       "3                                                      0      \n",
       "5                                                      0      \n",
       "7                                                      0      \n",
       "8                                                      0      \n",
       "...                                                  ...      \n",
       "63955                                                  0      \n",
       "64004                                                  0      \n",
       "64036                                                  0      \n",
       "64111                                                  0      \n",
       "64152                                                  0      \n",
       "\n",
       "       Industry that I’d be working in  \\\n",
       "0                                    0   \n",
       "3                                    0   \n",
       "5                                    0   \n",
       "7                                    0   \n",
       "8                                    0   \n",
       "...                                ...   \n",
       "63955                                1   \n",
       "64004                                0   \n",
       "64036                                0   \n",
       "64111                                0   \n",
       "64152                                0   \n",
       "\n",
       "       Languages, frameworks, and other technologies I’d be working with  \\\n",
       "0                                                      1                   \n",
       "3                                                      0                   \n",
       "5                                                      1                   \n",
       "7                                                      0                   \n",
       "8                                                      0                   \n",
       "...                                                  ...                   \n",
       "63955                                                  1                   \n",
       "64004                                                  1                   \n",
       "64036                                                  1                   \n",
       "64111                                                  0                   \n",
       "64152                                                  1                   \n",
       "\n",
       "       Office environment or company culture  \\\n",
       "0                                          0   \n",
       "3                                          1   \n",
       "5                                          1   \n",
       "7                                          0   \n",
       "8                                          1   \n",
       "...                                      ...   \n",
       "63955                                      0   \n",
       "64004                                      0   \n",
       "64036                                      1   \n",
       "64111                                      1   \n",
       "64152                                      0   \n",
       "\n",
       "       Opportunities for professional development  Remote work options  \\\n",
       "0                                               1                    1   \n",
       "3                                               1                    0   \n",
       "5                                               0                    0   \n",
       "7                                               1                    1   \n",
       "8                                               0                    1   \n",
       "...                                           ...                  ...   \n",
       "63955                                           0                    0   \n",
       "64004                                           1                    0   \n",
       "64036                                           1                    0   \n",
       "64111                                           0                    0   \n",
       "64152                                           0                    1   \n",
       "\n",
       "       Specific department or team I’d be working on Gender  \n",
       "0                                                  0    Man  \n",
       "3                                                  0    Man  \n",
       "5                                                  0    Man  \n",
       "7                                                  0    Man  \n",
       "8                                                  0    Man  \n",
       "...                                              ...    ...  \n",
       "63955                                              0    Man  \n",
       "64004                                              0    Man  \n",
       "64036                                              0    Man  \n",
       "64111                                              0    Man  \n",
       "64152                                              0    Man  \n",
       "\n",
       "[46007 rows x 12 columns]"
      ]
     },
     "execution_count": 131,
     "metadata": {},
     "output_type": "execute_result"
    }
   ],
   "source": [
    "df_dummies_final"
   ]
  },
  {
   "cell_type": "code",
   "execution_count": 132,
   "metadata": {},
   "outputs": [],
   "source": [
    "df_dummies_grouped = df_dummies_final.groupby('Gender').sum().reset_index()\n",
    "df_dummies_grouped = df_dummies_grouped.rename(columns={\"Gender\":\"Row_Num\"})\n"
   ]
  },
  {
   "cell_type": "code",
   "execution_count": 133,
   "metadata": {},
   "outputs": [],
   "source": [
    "df_dummies_grouped_Transposed = df_dummies_grouped.T"
   ]
  },
  {
   "cell_type": "code",
   "execution_count": 134,
   "metadata": {},
   "outputs": [],
   "source": [
    "new_columns = df_dummies_grouped_Transposed.iloc[0]\n",
    "df_transp_grouped_dummies = df_dummies_grouped_Transposed[1:]\n",
    "df_transp_grouped_dummies.columns = new_columns"
   ]
  },
  {
   "cell_type": "code",
   "execution_count": 135,
   "metadata": {},
   "outputs": [],
   "source": [
    "df_transp_grouped_dummies = df_transp_grouped_dummies.reset_index()\n",
    "df_transp_grouped_dummies.rename(columns = {\"index\":\"Job_Factor\" } , inplace=True)"
   ]
  },
  {
   "cell_type": "code",
   "execution_count": 136,
   "metadata": {},
   "outputs": [],
   "source": [
    "df_top_man = df_transp_grouped_dummies[['Job_Factor' ,'Man']].sort_values('Man', ascending=False)\n",
    "df_top_woman = df_transp_grouped_dummies[['Job_Factor' ,'Woman']].sort_values('Woman', ascending=False)\n",
    "df_top_non_binary = df_transp_grouped_dummies[['Job_Factor' ,'Non-Binary']].sort_values('Non-Binary', ascending=False)\n"
   ]
  },
  {
   "cell_type": "code",
   "execution_count": 137,
   "metadata": {},
   "outputs": [],
   "source": [
    "data_frames = [df_top_man, df_top_woman, df_top_non_binary]\n",
    "df_merged = reduce(lambda  left,right: pd.merge(left,right,on=['Job_Factor'],  how='outer'), data_frames)"
   ]
  },
  {
   "cell_type": "code",
   "execution_count": 138,
   "metadata": {},
   "outputs": [],
   "source": [
    "df_man_val = df_merged[['Job_Factor' , 'Man']]\n",
    "df_woman_val = df_merged[['Job_Factor' , 'Woman']]\n",
    "df_nonbinary_val = df_merged[['Job_Factor' , 'Non-Binary']]"
   ]
  },
  {
   "cell_type": "code",
   "execution_count": 139,
   "metadata": {},
   "outputs": [],
   "source": [
    "df_man_val.rename(columns ={\"Man\":\"Counts\"}, inplace = True)\n",
    "df_woman_val.rename(columns ={\"Woman\":\"Counts\"}, inplace = True)\n",
    "df_nonbinary_val.rename(columns ={\"Non-Binary\":\"Counts\"}, inplace = True)\n",
    "\n",
    "df_man_val['Gender'] = 'Man'\n",
    "df_woman_val['Gender'] = 'Woman'\n",
    "df_nonbinary_val['Gender'] = 'Non-Binary'"
   ]
  },
  {
   "cell_type": "code",
   "execution_count": 140,
   "metadata": {},
   "outputs": [],
   "source": [
    "df_final = df_man_val.append([df_woman_val, df_nonbinary_val] ).reset_index()\n",
    "df_final = df_final[['Job_Factor', 'Counts', 'Gender']]\n"
   ]
  },
  {
   "cell_type": "code",
   "execution_count": 141,
   "metadata": {},
   "outputs": [],
   "source": [
    "df_final['Counts'] = pd.to_numeric(df_final['Counts'], errors='coerce')"
   ]
  },
  {
   "cell_type": "code",
   "execution_count": 163,
   "metadata": {},
   "outputs": [],
   "source": [
    "df_totals = df_final.groupby([ 'Gender']).sum()['Counts'].reset_index().rename(columns = {\"Counts\":\"Total_Count\"})\n",
    "df_totals = pd.merge(df_final , df_totals , how=\"left\",on=\"Gender\")\n",
    "df_totals['Percentage'] = df_totals['Counts'] / df_totals['Total_Count'] * 100\n",
    "\n",
    "df_totals.sort_values([\"Gender\",\"Percentage\"] , ascending = False , inplace =True)"
   ]
  },
  {
   "cell_type": "code",
   "execution_count": 164,
   "metadata": {},
   "outputs": [],
   "source": [
    "df_totals = df_totals.groupby(\"Gender\").head(5)\n",
    "df_totals.sort_values([\"Percentage\"] , ascending=False , inplace = True)\n",
    "df_totals.reset_index(inplace = True)\n",
    "\n",
    "# use wrap function to wrap the text for job factor column\n",
    "\n",
    "df_totals['Job_Factor'] = df_totals['Job_Factor'].apply(lambda row: '\\n'.join(wrap(row, 25)))"
   ]
  },
  {
   "cell_type": "code",
   "execution_count": 167,
   "metadata": {},
   "outputs": [
    {
     "data": {
      "image/png": "[encoded data removed]",
      "text/plain": [
       "<Figure size 811.375x720 with 1 Axes>"
      ]
     },
     "metadata": {
      "needs_background": "light"
     },
     "output_type": "display_data"
    }
   ],
   "source": [
    "g  = sns.catplot(x=\"Percentage\", y=\"Job_Factor\", data=df_totals, hue=\"Gender\", kind=\"bar\",size= 10  );\n",
    "\n",
    "g.set_yticklabels(rotation= 0);\n",
    "\n",
    "\n",
    "def add_labels(graph, category_size,  omit_thresh, width_var, num_format):\n",
    "        ax = graph.facet_axis(0,0)\n",
    "        for p in ax.patches:\n",
    "            if p.get_width() > omit_thresh: # omit labels close to zero or other threshold\n",
    "                width = p.get_width() * width_var   # get bar length\n",
    "                ax.text(width,       # set the text at 1 unit right of the bar\n",
    "                p.get_y() + p.get_height() / 2, # get Y coordinate + X coordinate / 2\n",
    "                num_format.format(p.get_width()), # set variable to display, 2 decimals\n",
    "                ha = 'center',   # horizontal alignment\n",
    "                va = 'center')  # vertical alignment\n",
    "            else:\n",
    "                pass\n",
    "\n",
    "\n",
    "add_labels(graph=g, category_size = len(df_totals.index.unique()) ,  omit_thresh=0, width_var=0.5, num_format='{:.1f}%')\n",
    "\n",
    "\n",
    "plt.ylabel(\" \");\n",
    "plt.title(\"Top 5 factors stackoverflow users would consider when deciding between two jobs (answers based on 2020 survey)\" , pad = 20);"
   ]
  },
  {
   "cell_type": "code",
   "execution_count": null,
   "metadata": {},
   "outputs": [],
   "source": []
  },
  {
   "cell_type": "code",
   "execution_count": null,
   "metadata": {},
   "outputs": [],
   "source": []
  }
 ],
 "metadata": {
  "kernelspec": {
   "display_name": "Python 3.7.13 ('powerbi')",
   "language": "python",
   "name": "python3"
  },
  "language_info": {
   "codemirror_mode": {
    "name": "ipython",
    "version": 3
   },
   "file_extension": ".py",
   "mimetype": "text/x-python",
   "name": "python",
   "nbconvert_exporter": "python",
   "pygments_lexer": "ipython3",
   "version": "3.7.13"
  },
  "orig_nbformat": 4,
  "vscode": {
   "interpreter": {
    "hash": "807e771149081c63ef8bda18d8615482276b14572315263c4560d4c1b56a70c2"
   }
  }
 },
 "nbformat": 4,
 "nbformat_minor": 2
}
