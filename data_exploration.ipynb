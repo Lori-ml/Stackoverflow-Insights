{
 "cells": [
  {
   "cell_type": "code",
   "execution_count": 1,
   "metadata": {},
   "outputs": [],
   "source": [
    "# Call required libaries\n",
    "import matplotlib.pyplot as plt\n",
    "import plotly.graph_objects as go\n",
    "import scipy.stats as stats\n",
    "import colorlover as cl\n",
    "import numpy as np\n",
    "import pandas as pd\n",
    "import seaborn as sns\n",
    "import warnings\n",
    "import re\n",
    "from scipy.stats import mannwhitneyu\n",
    "from functools import reduce\n",
    "from textwrap import wrap\n",
    "pd.set_option('display.max_columns' ,150)\n",
    "pd.set_option('display.max_rows' ,150)\n",
    "pd.set_option('display.max_colwidth', None)\n",
    "warnings.filterwarnings(\"ignore\")\n",
    "\n",
    "\n"
   ]
  },
  {
   "cell_type": "markdown",
   "metadata": {},
   "source": [
    "1. Data gathering and cleaning"
   ]
  },
  {
   "cell_type": "markdown",
   "metadata": {},
   "source": [
    "- Create a function can be applied to 2018, 2019 and 2020 datasets "
   ]
  },
  {
   "cell_type": "code",
   "execution_count": 2,
   "metadata": {},
   "outputs": [],
   "source": [
    "def read_clean_data(year):\n",
    "    \n",
    "    '''This function reads the data for the given year , cleans the data and returns a dataframe ready to use '''\n",
    "\n",
    "    #Create an empty dataframe for the year reading\n",
    "    locals()['df_'+ str(year) + \"_jobsat\"]  = pd.DataFrame()\n",
    "    #Read the csv file and save it to a df_ + the year reading dataframe\n",
    "    locals()['df_'+ str(year) ]  = pd.read_csv(\"survey_results_public_\" + str(year)+ \".csv\")\n",
    "\n",
    "    #If year is 2019 or 2020 then rename column from JobSat to JobSatisfaction\n",
    "    if (year == 2019 or year == 2020):\n",
    "        locals()['df_'+ str(year) ].rename(columns = {\"JobSat\" : \"JobSatisfaction\"} , inplace = True)\n",
    "\n",
    "    #Keep only columns of country and jobsatisfaction, filter only for USA and European countries\n",
    "    locals()['df_'+ str(year) + \"_jobsat\"] = locals()['df_'+ str(year) ][['Country', 'JobSatisfaction']][(   locals()['df_'+ str(year) ]['Country'] == 'United States') \n",
    "                                                                                                          | (locals()['df_'+ str(year) ]['Country'] == 'Finland') \n",
    "                                                                                                          | (locals()['df_'+ str(year) ]['Country'] == 'Denmark')\n",
    "                                                                                                          | (locals()['df_'+ str(year) ]['Country'] == 'Iceland')\n",
    "                                                                                                          | (locals()['df_'+ str(year) ]['Country'] == 'Switzerland') \n",
    "                                                                                                          | (locals()['df_'+ str(year) ]['Country'] == 'Netherlands') \n",
    "                                                                                                          | (locals()['df_'+ str(year) ]['Country'] == 'Luxembourg') \n",
    "                                                                                                          | (locals()['df_'+ str(year) ]['Country'] == 'Sweden') \n",
    "                                                                                                          | (locals()['df_'+ str(year) ]['Country'] == 'Norway') \n",
    "                                                                                                          | (locals()['df_'+ str(year) ]['Country'] == 'Austria') \n",
    "                                                                                                          | (locals()['df_'+ str(year) ]['Country'] == 'Ireland') \n",
    "                                                                                                          | (locals()['df_'+ str(year) ]['Country'] == 'Germany') \n",
    "                                                                                                          | (locals()['df_'+ str(year) ]['Country'] == 'United Kingdom') \n",
    "                                                                                                          | (locals()['df_'+ str(year) ]['Country'] == 'Czech Republic') \n",
    "                                                                                                          | (locals()['df_'+ str(year) ]['Country'] == 'Belgium') \n",
    "                                                                                                          | (locals()['df_'+ str(year) ]['Country'] == 'France')  ]\n",
    "\n",
    "\n",
    "    #Drop all nulls, since I am only doing inference analysis I am not using any technique for replacing them\n",
    "    locals()['df_'+ str(year) + \"_jobsat\"] = locals()['df_'+ str(year) + \"_jobsat\"].dropna(axis = 0 , how=\"any\").reset_index()\n",
    "    #Create a new column for location, for all non USA countries the location will be Europe otherwise it will be the current name for country (USA)\n",
    "    locals()['df_'+ str(year) + \"_jobsat\"].loc[~ (locals()['df_'+ str(year) + \"_jobsat\"]['Country'] == 'United States') , 'Location']  = 'Europe'\n",
    "    locals()['df_'+ str(year) + \"_jobsat\"].loc[  (locals()['df_'+ str(year) + \"_jobsat\"]['Country'] == 'United States') , 'Location']  =  locals()['df_'+ str(year) + \"_jobsat\"]['Country']\n",
    "    #drop country column \n",
    "    locals()['df_'+ str(year) + \"_jobsat\"].drop(columns = 'Country' , inplace = True)\n",
    "    #Create a new column for year, this will show what year the answer in the survey pertains \n",
    "    locals()['df_'+ str(year) + \"_jobsat\"]['Year'] = str(year)\n",
    "\n",
    "    \n",
    "    \n",
    "    #For year 2018 convert 7 likert scale to 5 likert scale\n",
    "    if year == 2018:\n",
    "        \n",
    "        locals()['df_'+ str(year) + \"_jobsat\"].loc[ (locals()['df_'+ str(year) + \"_jobsat\"]['JobSatisfaction'] == 'Moderately dissatisfied') , 'JobSatisfaction']  = 'Slightly dissatisfied'\n",
    "        locals()['df_'+ str(year) + \"_jobsat\"].loc[ (locals()['df_'+ str(year) + \"_jobsat\"]['JobSatisfaction'] == 'Moderately satisfied') , 'JobSatisfaction']  = 'Slightly satisfied'\n",
    "        locals()['df_'+ str(year) + \"_jobsat\"].loc[ (locals()['df_'+ str(year) + \"_jobsat\"]['JobSatisfaction'] == 'Extremely dissatisfied') , 'JobSatisfaction']  = 'Very dissatisfied'\n",
    "        locals()['df_'+ str(year) + \"_jobsat\"].loc[ (locals()['df_'+ str(year) + \"_jobsat\"]['JobSatisfaction'] == 'Extremely satisfied') , 'JobSatisfaction']  = 'Very satisfied'\n",
    "\n",
    "\n",
    "    #Create a new column for job satisfaction which will hold the ordinal value\n",
    "    locals()['df_'+ str(year) + \"_jobsat\"].loc[locals()['df_'+ str(year) + \"_jobsat\"]['JobSatisfaction'] == 'Very dissatisfied' , 'JobSatisfaction_Ordinal' ]  = 1\n",
    "    locals()['df_'+ str(year) + \"_jobsat\"].loc[locals()['df_'+ str(year) + \"_jobsat\"]['JobSatisfaction'] == 'Slightly dissatisfied' , 'JobSatisfaction_Ordinal' ]  = 2\n",
    "    locals()['df_'+ str(year) + \"_jobsat\"].loc[locals()['df_'+ str(year) + \"_jobsat\"]['JobSatisfaction'] == 'Neither satisfied nor dissatisfied' , 'JobSatisfaction_Ordinal' ]  = 3\n",
    "    locals()['df_'+ str(year) + \"_jobsat\"].loc[locals()['df_'+ str(year) + \"_jobsat\"]['JobSatisfaction'] == 'Neither satisfied nor dissatisfied' , 'JobSatisfaction_Ordinal' ]  = 3\n",
    "    locals()['df_'+ str(year) + \"_jobsat\"].loc[locals()['df_'+ str(year) + \"_jobsat\"]['JobSatisfaction'] == 'Slightly satisfied' , 'JobSatisfaction_Ordinal' ]  = 4\n",
    "    locals()['df_'+ str(year) + \"_jobsat\"].loc[locals()['df_'+ str(year) + \"_jobsat\"]['JobSatisfaction'] == 'Very satisfied' , 'JobSatisfaction_Ordinal' ]  = 5\n",
    "\n",
    "\n",
    "    #Return the dataframe\n",
    "    return locals()['df_'+ str(year) + \"_jobsat\"]"
   ]
  },
  {
   "cell_type": "markdown",
   "metadata": {},
   "source": [
    "- Create a single dataset by calling above function"
   ]
  },
  {
   "cell_type": "code",
   "execution_count": 3,
   "metadata": {},
   "outputs": [],
   "source": [
    "#List of years we will read survey data \n",
    "years_list  = [2018 , 2019,2020 ] \n",
    "#Final dataset\n",
    "df_all_jobsat = pd.DataFrame()\n",
    "#Loop through all years, call the function which reads and cleans data , concatenate dataframes \n",
    "for i in years_list:\n",
    "     df_all_jobsat = pd.concat([df_all_jobsat,read_clean_data(i)])\n",
    "    \n",
    "#Create a new column in the dataset for row count\n",
    "df_all_jobsat[\"row_num\"] = np.arange(df_all_jobsat.shape[0])"
   ]
  },
  {
   "cell_type": "code",
   "execution_count": null,
   "metadata": {},
   "outputs": [],
   "source": []
  },
  {
   "cell_type": "markdown",
   "metadata": {},
   "source": [
    "2. Data Visualization"
   ]
  },
  {
   "cell_type": "markdown",
   "metadata": {},
   "source": [
    "- Prepare the data for visualization"
   ]
  },
  {
   "cell_type": "code",
   "execution_count": 4,
   "metadata": {},
   "outputs": [],
   "source": [
    "#Find the counts for each category of job satisfaction and location\n",
    "df_all_gr = df_all_jobsat.groupby(['Location' , 'JobSatisfaction']).count()['row_num'].reset_index().rename(columns = {\"row_num\":\"counts\"})\n",
    "#Get the count for each Location\n",
    "df_tot_cnt = df_all_jobsat.groupby(\"Location\").count()['row_num'].reset_index().rename(columns = {\"row_num\":\"total_count\"})\n",
    "#Merge above datasets\n",
    "df_percentage = pd.merge(df_all_gr , df_tot_cnt , on=\"Location\", how=\"left\")\n",
    "#Calculate percetage and save it under a new column\n",
    "df_percentage['percentage']= df_percentage['counts'] / df_percentage['total_count'] *100\n",
    "#Round percentage to 1 decimal\n",
    "df_percentage['percentage'] = df_percentage ['percentage'].round(1)\n"
   ]
  },
  {
   "cell_type": "code",
   "execution_count": 5,
   "metadata": {},
   "outputs": [
    {
     "data": {
      "text/html": [
       "<div>\n",
       "<style scoped>\n",
       "    .dataframe tbody tr th:only-of-type {\n",
       "        vertical-align: middle;\n",
       "    }\n",
       "\n",
       "    .dataframe tbody tr th {\n",
       "        vertical-align: top;\n",
       "    }\n",
       "\n",
       "    .dataframe thead th {\n",
       "        text-align: right;\n",
       "    }\n",
       "</style>\n",
       "<table border=\"1\" class=\"dataframe\">\n",
       "  <thead>\n",
       "    <tr style=\"text-align: right;\">\n",
       "      <th>JobSatisfaction</th>\n",
       "      <th>Very dissatisfied</th>\n",
       "      <th>Slightly dissatisfied</th>\n",
       "      <th>Neither satisfied nor dissatisfied</th>\n",
       "      <th>Slightly satisfied</th>\n",
       "      <th>Very satisfied</th>\n",
       "    </tr>\n",
       "    <tr>\n",
       "      <th>Location</th>\n",
       "      <th></th>\n",
       "      <th></th>\n",
       "      <th></th>\n",
       "      <th></th>\n",
       "      <th></th>\n",
       "    </tr>\n",
       "  </thead>\n",
       "  <tbody>\n",
       "    <tr>\n",
       "      <th>United States</th>\n",
       "      <td>-5.0</td>\n",
       "      <td>-14.8</td>\n",
       "      <td>7.6</td>\n",
       "      <td>37.9</td>\n",
       "      <td>34.7</td>\n",
       "    </tr>\n",
       "    <tr>\n",
       "      <th>Europe</th>\n",
       "      <td>-5.3</td>\n",
       "      <td>-15.7</td>\n",
       "      <td>8.6</td>\n",
       "      <td>40.5</td>\n",
       "      <td>29.9</td>\n",
       "    </tr>\n",
       "  </tbody>\n",
       "</table>\n",
       "</div>"
      ],
      "text/plain": [
       "JobSatisfaction  Very dissatisfied  Slightly dissatisfied  \\\n",
       "Location                                                    \n",
       "United States                 -5.0                  -14.8   \n",
       "Europe                        -5.3                  -15.7   \n",
       "\n",
       "JobSatisfaction  Neither satisfied nor dissatisfied  Slightly satisfied  \\\n",
       "Location                                                                  \n",
       "United States                                   7.6                37.9   \n",
       "Europe                                          8.6                40.5   \n",
       "\n",
       "JobSatisfaction  Very satisfied  \n",
       "Location                         \n",
       "United States              34.7  \n",
       "Europe                     29.9  "
      ]
     },
     "execution_count": 5,
     "metadata": {},
     "output_type": "execute_result"
    }
   ],
   "source": [
    "#Create a list with ordered likert data, this is how it will be displayed in the chart\n",
    "category_order = ['Very dissatisfied' ,'Slightly dissatisfied' , 'Neither satisfied nor dissatisfied' ,'Slightly satisfied' , 'Very satisfied' ]\n",
    "\n",
    "#Create a pivoted table from the dataframe \n",
    "df_all_jobsat_pivoted = pd.pivot_table(df_percentage , index = 'Location' , columns='JobSatisfaction',values= 'percentage' )\n",
    "\n",
    "#Create a dataframe with above columns in order\n",
    "df_all_jobsat_pivoted = df_all_jobsat_pivoted[category_order]\n",
    "\n",
    "#Convert negative sentiments to negative values\n",
    "df_all_jobsat_pivoted['Very dissatisfied'] = df_all_jobsat_pivoted['Very dissatisfied'] * (-1)\n",
    "df_all_jobsat_pivoted['Slightly dissatisfied'] = df_all_jobsat_pivoted['Slightly dissatisfied'] * (-1)\n",
    "\n",
    "#Sort values\n",
    "df_all_jobsat_pivoted = df_all_jobsat_pivoted.sort_values(by = ['Very dissatisfied' ] , ascending = False )\n",
    "df_all_jobsat_pivoted"
   ]
  },
  {
   "cell_type": "code",
   "execution_count": 6,
   "metadata": {},
   "outputs": [
    {
     "data": {
      "application/vnd.plotly.v1+json": {
       "config": {
        "plotlyServerURL": "https://plot.ly"
       },
       "data": [
        {
         "marker": {
          "color": "rgb(215,25,28)"
         },
         "name": "Very dissatisfied",
         "orientation": "h",
         "text": [
          "-5.0%",
          "-5.3%"
         ],
         "type": "bar",
         "x": [
          -5,
          -5.3
         ],
         "y": [
          "United States",
          "Europe"
         ]
        },
        {
         "marker": {
          "color": "rgb(253,174,97)"
         },
         "name": "Slightly dissatisfied",
         "orientation": "h",
         "text": [
          "-14.8%",
          "-15.7%"
         ],
         "type": "bar",
         "x": [
          -14.8,
          -15.7
         ],
         "y": [
          "United States",
          "Europe"
         ]
        },
        {
         "marker": {
          "color": "rgb(255,255,191)"
         },
         "name": "Neither satisfied nor dissatisfied",
         "orientation": "h",
         "text": [
          "7.6%",
          "8.6%"
         ],
         "type": "bar",
         "x": [
          7.6,
          8.6
         ],
         "y": [
          "United States",
          "Europe"
         ]
        },
        {
         "marker": {
          "color": "rgb(166,217,106)"
         },
         "name": "Slightly satisfied",
         "orientation": "h",
         "text": [
          "37.9%",
          "40.5%"
         ],
         "type": "bar",
         "x": [
          37.9,
          40.5
         ],
         "y": [
          "United States",
          "Europe"
         ]
        },
        {
         "marker": {
          "color": "rgb(26,150,65)"
         },
         "name": "Very satisfied",
         "orientation": "h",
         "text": [
          "34.7%",
          "29.9%"
         ],
         "type": "bar",
         "x": [
          34.7,
          29.9
         ],
         "y": [
          "United States",
          "Europe"
         ]
        }
       ],
       "layout": {
        "bargap": 0.3,
        "barmode": "relative",
        "height": 450,
        "template": {
         "data": {
          "bar": [
           {
            "error_x": {
             "color": "#2a3f5f"
            },
            "error_y": {
             "color": "#2a3f5f"
            },
            "marker": {
             "line": {
              "color": "#E5ECF6",
              "width": 0.5
             },
             "pattern": {
              "fillmode": "overlay",
              "size": 10,
              "solidity": 0.2
             }
            },
            "type": "bar"
           }
          ],
          "barpolar": [
           {
            "marker": {
             "line": {
              "color": "#E5ECF6",
              "width": 0.5
             },
             "pattern": {
              "fillmode": "overlay",
              "size": 10,
              "solidity": 0.2
             }
            },
            "type": "barpolar"
           }
          ],
          "carpet": [
           {
            "aaxis": {
             "endlinecolor": "#2a3f5f",
             "gridcolor": "white",
             "linecolor": "white",
             "minorgridcolor": "white",
             "startlinecolor": "#2a3f5f"
            },
            "baxis": {
             "endlinecolor": "#2a3f5f",
             "gridcolor": "white",
             "linecolor": "white",
             "minorgridcolor": "white",
             "startlinecolor": "#2a3f5f"
            },
            "type": "carpet"
           }
          ],
          "choropleth": [
           {
            "colorbar": {
             "outlinewidth": 0,
             "ticks": ""
            },
            "type": "choropleth"
           }
          ],
          "contour": [
           {
            "colorbar": {
             "outlinewidth": 0,
             "ticks": ""
            },
            "colorscale": [
             [
              0,
              "#0d0887"
             ],
             [
              0.1111111111111111,
              "#46039f"
             ],
             [
              0.2222222222222222,
              "#7201a8"
             ],
             [
              0.3333333333333333,
              "#9c179e"
             ],
             [
              0.4444444444444444,
              "#bd3786"
             ],
             [
              0.5555555555555556,
              "#d8576b"
             ],
             [
              0.6666666666666666,
              "#ed7953"
             ],
             [
              0.7777777777777778,
              "#fb9f3a"
             ],
             [
              0.8888888888888888,
              "#fdca26"
             ],
             [
              1,
              "#f0f921"
             ]
            ],
            "type": "contour"
           }
          ],
          "contourcarpet": [
           {
            "colorbar": {
             "outlinewidth": 0,
             "ticks": ""
            },
            "type": "contourcarpet"
           }
          ],
          "heatmap": [
           {
            "colorbar": {
             "outlinewidth": 0,
             "ticks": ""
            },
            "colorscale": [
             [
              0,
              "#0d0887"
             ],
             [
              0.1111111111111111,
              "#46039f"
             ],
             [
              0.2222222222222222,
              "#7201a8"
             ],
             [
              0.3333333333333333,
              "#9c179e"
             ],
             [
              0.4444444444444444,
              "#bd3786"
             ],
             [
              0.5555555555555556,
              "#d8576b"
             ],
             [
              0.6666666666666666,
              "#ed7953"
             ],
             [
              0.7777777777777778,
              "#fb9f3a"
             ],
             [
              0.8888888888888888,
              "#fdca26"
             ],
             [
              1,
              "#f0f921"
             ]
            ],
            "type": "heatmap"
           }
          ],
          "heatmapgl": [
           {
            "colorbar": {
             "outlinewidth": 0,
             "ticks": ""
            },
            "colorscale": [
             [
              0,
              "#0d0887"
             ],
             [
              0.1111111111111111,
              "#46039f"
             ],
             [
              0.2222222222222222,
              "#7201a8"
             ],
             [
              0.3333333333333333,
              "#9c179e"
             ],
             [
              0.4444444444444444,
              "#bd3786"
             ],
             [
              0.5555555555555556,
              "#d8576b"
             ],
             [
              0.6666666666666666,
              "#ed7953"
             ],
             [
              0.7777777777777778,
              "#fb9f3a"
             ],
             [
              0.8888888888888888,
              "#fdca26"
             ],
             [
              1,
              "#f0f921"
             ]
            ],
            "type": "heatmapgl"
           }
          ],
          "histogram": [
           {
            "marker": {
             "pattern": {
              "fillmode": "overlay",
              "size": 10,
              "solidity": 0.2
             }
            },
            "type": "histogram"
           }
          ],
          "histogram2d": [
           {
            "colorbar": {
             "outlinewidth": 0,
             "ticks": ""
            },
            "colorscale": [
             [
              0,
              "#0d0887"
             ],
             [
              0.1111111111111111,
              "#46039f"
             ],
             [
              0.2222222222222222,
              "#7201a8"
             ],
             [
              0.3333333333333333,
              "#9c179e"
             ],
             [
              0.4444444444444444,
              "#bd3786"
             ],
             [
              0.5555555555555556,
              "#d8576b"
             ],
             [
              0.6666666666666666,
              "#ed7953"
             ],
             [
              0.7777777777777778,
              "#fb9f3a"
             ],
             [
              0.8888888888888888,
              "#fdca26"
             ],
             [
              1,
              "#f0f921"
             ]
            ],
            "type": "histogram2d"
           }
          ],
          "histogram2dcontour": [
           {
            "colorbar": {
             "outlinewidth": 0,
             "ticks": ""
            },
            "colorscale": [
             [
              0,
              "#0d0887"
             ],
             [
              0.1111111111111111,
              "#46039f"
             ],
             [
              0.2222222222222222,
              "#7201a8"
             ],
             [
              0.3333333333333333,
              "#9c179e"
             ],
             [
              0.4444444444444444,
              "#bd3786"
             ],
             [
              0.5555555555555556,
              "#d8576b"
             ],
             [
              0.6666666666666666,
              "#ed7953"
             ],
             [
              0.7777777777777778,
              "#fb9f3a"
             ],
             [
              0.8888888888888888,
              "#fdca26"
             ],
             [
              1,
              "#f0f921"
             ]
            ],
            "type": "histogram2dcontour"
           }
          ],
          "mesh3d": [
           {
            "colorbar": {
             "outlinewidth": 0,
             "ticks": ""
            },
            "type": "mesh3d"
           }
          ],
          "parcoords": [
           {
            "line": {
             "colorbar": {
              "outlinewidth": 0,
              "ticks": ""
             }
            },
            "type": "parcoords"
           }
          ],
          "pie": [
           {
            "automargin": true,
            "type": "pie"
           }
          ],
          "scatter": [
           {
            "fillpattern": {
             "fillmode": "overlay",
             "size": 10,
             "solidity": 0.2
            },
            "type": "scatter"
           }
          ],
          "scatter3d": [
           {
            "line": {
             "colorbar": {
              "outlinewidth": 0,
              "ticks": ""
             }
            },
            "marker": {
             "colorbar": {
              "outlinewidth": 0,
              "ticks": ""
             }
            },
            "type": "scatter3d"
           }
          ],
          "scattercarpet": [
           {
            "marker": {
             "colorbar": {
              "outlinewidth": 0,
              "ticks": ""
             }
            },
            "type": "scattercarpet"
           }
          ],
          "scattergeo": [
           {
            "marker": {
             "colorbar": {
              "outlinewidth": 0,
              "ticks": ""
             }
            },
            "type": "scattergeo"
           }
          ],
          "scattergl": [
           {
            "marker": {
             "colorbar": {
              "outlinewidth": 0,
              "ticks": ""
             }
            },
            "type": "scattergl"
           }
          ],
          "scattermapbox": [
           {
            "marker": {
             "colorbar": {
              "outlinewidth": 0,
              "ticks": ""
             }
            },
            "type": "scattermapbox"
           }
          ],
          "scatterpolar": [
           {
            "marker": {
             "colorbar": {
              "outlinewidth": 0,
              "ticks": ""
             }
            },
            "type": "scatterpolar"
           }
          ],
          "scatterpolargl": [
           {
            "marker": {
             "colorbar": {
              "outlinewidth": 0,
              "ticks": ""
             }
            },
            "type": "scatterpolargl"
           }
          ],
          "scatterternary": [
           {
            "marker": {
             "colorbar": {
              "outlinewidth": 0,
              "ticks": ""
             }
            },
            "type": "scatterternary"
           }
          ],
          "surface": [
           {
            "colorbar": {
             "outlinewidth": 0,
             "ticks": ""
            },
            "colorscale": [
             [
              0,
              "#0d0887"
             ],
             [
              0.1111111111111111,
              "#46039f"
             ],
             [
              0.2222222222222222,
              "#7201a8"
             ],
             [
              0.3333333333333333,
              "#9c179e"
             ],
             [
              0.4444444444444444,
              "#bd3786"
             ],
             [
              0.5555555555555556,
              "#d8576b"
             ],
             [
              0.6666666666666666,
              "#ed7953"
             ],
             [
              0.7777777777777778,
              "#fb9f3a"
             ],
             [
              0.8888888888888888,
              "#fdca26"
             ],
             [
              1,
              "#f0f921"
             ]
            ],
            "type": "surface"
           }
          ],
          "table": [
           {
            "cells": {
             "fill": {
              "color": "#EBF0F8"
             },
             "line": {
              "color": "white"
             }
            },
            "header": {
             "fill": {
              "color": "#C8D4E3"
             },
             "line": {
              "color": "white"
             }
            },
            "type": "table"
           }
          ]
         },
         "layout": {
          "annotationdefaults": {
           "arrowcolor": "#2a3f5f",
           "arrowhead": 0,
           "arrowwidth": 1
          },
          "autotypenumbers": "strict",
          "coloraxis": {
           "colorbar": {
            "outlinewidth": 0,
            "ticks": ""
           }
          },
          "colorscale": {
           "diverging": [
            [
             0,
             "#8e0152"
            ],
            [
             0.1,
             "#c51b7d"
            ],
            [
             0.2,
             "#de77ae"
            ],
            [
             0.3,
             "#f1b6da"
            ],
            [
             0.4,
             "#fde0ef"
            ],
            [
             0.5,
             "#f7f7f7"
            ],
            [
             0.6,
             "#e6f5d0"
            ],
            [
             0.7,
             "#b8e186"
            ],
            [
             0.8,
             "#7fbc41"
            ],
            [
             0.9,
             "#4d9221"
            ],
            [
             1,
             "#276419"
            ]
           ],
           "sequential": [
            [
             0,
             "#0d0887"
            ],
            [
             0.1111111111111111,
             "#46039f"
            ],
            [
             0.2222222222222222,
             "#7201a8"
            ],
            [
             0.3333333333333333,
             "#9c179e"
            ],
            [
             0.4444444444444444,
             "#bd3786"
            ],
            [
             0.5555555555555556,
             "#d8576b"
            ],
            [
             0.6666666666666666,
             "#ed7953"
            ],
            [
             0.7777777777777778,
             "#fb9f3a"
            ],
            [
             0.8888888888888888,
             "#fdca26"
            ],
            [
             1,
             "#f0f921"
            ]
           ],
           "sequentialminus": [
            [
             0,
             "#0d0887"
            ],
            [
             0.1111111111111111,
             "#46039f"
            ],
            [
             0.2222222222222222,
             "#7201a8"
            ],
            [
             0.3333333333333333,
             "#9c179e"
            ],
            [
             0.4444444444444444,
             "#bd3786"
            ],
            [
             0.5555555555555556,
             "#d8576b"
            ],
            [
             0.6666666666666666,
             "#ed7953"
            ],
            [
             0.7777777777777778,
             "#fb9f3a"
            ],
            [
             0.8888888888888888,
             "#fdca26"
            ],
            [
             1,
             "#f0f921"
            ]
           ]
          },
          "colorway": [
           "#636efa",
           "#EF553B",
           "#00cc96",
           "#ab63fa",
           "#FFA15A",
           "#19d3f3",
           "#FF6692",
           "#B6E880",
           "#FF97FF",
           "#FECB52"
          ],
          "font": {
           "color": "#2a3f5f"
          },
          "geo": {
           "bgcolor": "white",
           "lakecolor": "white",
           "landcolor": "#E5ECF6",
           "showlakes": true,
           "showland": true,
           "subunitcolor": "white"
          },
          "hoverlabel": {
           "align": "left"
          },
          "hovermode": "closest",
          "mapbox": {
           "style": "light"
          },
          "paper_bgcolor": "white",
          "plot_bgcolor": "#E5ECF6",
          "polar": {
           "angularaxis": {
            "gridcolor": "white",
            "linecolor": "white",
            "ticks": ""
           },
           "bgcolor": "#E5ECF6",
           "radialaxis": {
            "gridcolor": "white",
            "linecolor": "white",
            "ticks": ""
           }
          },
          "scene": {
           "xaxis": {
            "backgroundcolor": "#E5ECF6",
            "gridcolor": "white",
            "gridwidth": 2,
            "linecolor": "white",
            "showbackground": true,
            "ticks": "",
            "zerolinecolor": "white"
           },
           "yaxis": {
            "backgroundcolor": "#E5ECF6",
            "gridcolor": "white",
            "gridwidth": 2,
            "linecolor": "white",
            "showbackground": true,
            "ticks": "",
            "zerolinecolor": "white"
           },
           "zaxis": {
            "backgroundcolor": "#E5ECF6",
            "gridcolor": "white",
            "gridwidth": 2,
            "linecolor": "white",
            "showbackground": true,
            "ticks": "",
            "zerolinecolor": "white"
           }
          },
          "shapedefaults": {
           "line": {
            "color": "#2a3f5f"
           }
          },
          "ternary": {
           "aaxis": {
            "gridcolor": "white",
            "linecolor": "white",
            "ticks": ""
           },
           "baxis": {
            "gridcolor": "white",
            "linecolor": "white",
            "ticks": ""
           },
           "bgcolor": "#E5ECF6",
           "caxis": {
            "gridcolor": "white",
            "linecolor": "white",
            "ticks": ""
           }
          },
          "title": {
           "x": 0.05
          },
          "xaxis": {
           "automargin": true,
           "gridcolor": "white",
           "linecolor": "white",
           "ticks": "",
           "title": {
            "standoff": 15
           },
           "zerolinecolor": "white",
           "zerolinewidth": 2
          },
          "yaxis": {
           "automargin": true,
           "gridcolor": "white",
           "linecolor": "white",
           "ticks": "",
           "title": {
            "standoff": 15
           },
           "zerolinecolor": "white",
           "zerolinewidth": 2
          }
         }
        },
        "title": {
         "text": "Europe vs USA Developers Job Satisfaction (years 2018,2019 and 2020)"
        },
        "width": 1400,
        "xaxis": {
         "title": {
          "text": "Pecentage"
         }
        }
       }
      }
     },
     "metadata": {},
     "output_type": "display_data"
    }
   ],
   "source": [
    "''' Create a Diverging Stack Bar Chart'''\n",
    "\n",
    "#Initilaize the figure \n",
    "fig = go.Figure()\n",
    "\n",
    "#Create the bars for each of the columns in the pivoted table\n",
    "for column in df_all_jobsat_pivoted.columns:\n",
    "    fig.add_trace(go.Bar(\n",
    "        x = df_all_jobsat_pivoted[column],\n",
    "        y = df_all_jobsat_pivoted.index,\n",
    "        name = column,\n",
    "        orientation = 'h',\n",
    "        marker_color = cl.scales[str(len(category_order))]['div']['RdYlGn'][category_order.index(column)],\n",
    "        text = df_all_jobsat_pivoted[column].astype(str) + '%' \n",
    "       ))\n",
    "    \n",
    "#Update figure layout\n",
    "fig.update_layout(\n",
    "    barmode = 'relative',\n",
    "    height=450,\n",
    "    width=1400,\n",
    "    bargap=0.3 ,\n",
    "    title = 'Europe vs USA Developers Job Satisfaction (years 2018,2019 and 2020)' ,\n",
    "    xaxis_title=\"Pecentage\"\n",
    ")\n",
    "\n",
    "#Display the figure\n",
    "fig.show()\n"
   ]
  },
  {
   "cell_type": "markdown",
   "metadata": {},
   "source": [
    "- Check how answers for job satisfaction are being distributed for each location"
   ]
  },
  {
   "cell_type": "code",
   "execution_count": 7,
   "metadata": {},
   "outputs": [
    {
     "data": {
      "image/png": "[encoded data removed]",
      "text/plain": [
       "<Figure size 432x288 with 1 Axes>"
      ]
     },
     "metadata": {
      "needs_background": "light"
     },
     "output_type": "display_data"
    }
   ],
   "source": [
    "#Distribution of jobsatisfaction for Europe\n",
    "df_all_jobsat['JobSatisfaction'][df_all_jobsat['Location'] == 'Europe'].hist();\n",
    "plt.xticks(rotation=90);"
   ]
  },
  {
   "cell_type": "code",
   "execution_count": 8,
   "metadata": {},
   "outputs": [
    {
     "data": {
      "image/png": "[encoded data removed]",
      "text/plain": [
       "<Figure size 432x288 with 1 Axes>"
      ]
     },
     "metadata": {
      "needs_background": "light"
     },
     "output_type": "display_data"
    }
   ],
   "source": [
    "#Distribution of jobsatisfaction for USA\n",
    "df_all_jobsat['JobSatisfaction'][df_all_jobsat['Location'] == 'United States'].hist();\n",
    "plt.xticks(rotation=90);"
   ]
  },
  {
   "cell_type": "markdown",
   "metadata": {},
   "source": [
    "- Since the data is normally distributed will use Mann Whiteny test to check for group differences"
   ]
  },
  {
   "cell_type": "code",
   "execution_count": 9,
   "metadata": {},
   "outputs": [
    {
     "data": {
      "text/plain": [
       "MannwhitneyuResult(statistic=996210618.5, pvalue=7.459824283052915e-46)"
      ]
     },
     "execution_count": 9,
     "metadata": {},
     "output_type": "execute_result"
    }
   ],
   "source": [
    "#Create a dataframe only for Europe\n",
    "df_Europe = df_all_jobsat.loc[ (df_all_jobsat['Location'] == 'Europe')]\n",
    "#Create a dataframe only for USA\n",
    "df_USA = df_all_jobsat.loc[ (df_all_jobsat['Location'] == 'United States')] \n",
    "#Apply MannWhintey test\n",
    "mannwhitneyu(df_Europe['JobSatisfaction']  , df_USA['JobSatisfaction'])   "
   ]
  },
  {
   "cell_type": "markdown",
   "metadata": {},
   "source": [
    "- Trend line from year 2018 until 2020 for both continents "
   ]
  },
  {
   "cell_type": "code",
   "execution_count": 10,
   "metadata": {},
   "outputs": [
    {
     "data": {
      "image/png": "[encoded data removed]",
      "text/plain": [
       "<Figure size 792x432 with 1 Axes>"
      ]
     },
     "metadata": {
      "needs_background": "light"
     },
     "output_type": "display_data"
    }
   ],
   "source": [
    "# Convert year from string to datetime\n",
    "df_all_jobsat.Year = pd.to_datetime(df_all_jobsat.Year , format = '%Y')   \n",
    "\n",
    "# Get the mean of based on location and year\n",
    "df_all_yearly_avg = df_all_jobsat.groupby(['Location','Year']).mean()['JobSatisfaction_Ordinal']\n",
    "\n",
    "# Create a pivot table with continents as columns and their mean values as rows\n",
    "df_all_yearly_avg = df_all_yearly_avg.unstack(level='Location')\n",
    "df_all_yearly_avg.columns.name = 'Location:'\n",
    "\n",
    "# Plot the data\n",
    "ax = df_all_yearly_avg.plot(figsize=(11, 6)  );\n",
    "ax.set_xlabel('Year', fontsize=14);\n",
    "ax.set_xlabel('Avg Job Satisfaction', fontsize=14);\n",
    "ax.set_title(\"Job Satisfaction Europe vs USA\" , fontsize=14);\n",
    "\n",
    "\n"
   ]
  },
  {
   "cell_type": "code",
   "execution_count": null,
   "metadata": {},
   "outputs": [],
   "source": []
  },
  {
   "cell_type": "markdown",
   "metadata": {},
   "source": [
    "- Data Reading for year 2020"
   ]
  },
  {
   "cell_type": "code",
   "execution_count": 11,
   "metadata": {},
   "outputs": [
    {
     "data": {
      "text/plain": [
       "Man                                                            22439\n",
       "Woman                                                           2182\n",
       "Non-binary, genderqueer, or gender non-conforming                261\n",
       "Man;Non-binary, genderqueer, or gender non-conforming             80\n",
       "Woman;Non-binary, genderqueer, or gender non-conforming           63\n",
       "Woman;Man                                                         14\n",
       "Woman;Man;Non-binary, genderqueer, or gender non-conforming        5\n",
       "Name: Gender, dtype: int64"
      ]
     },
     "execution_count": 11,
     "metadata": {},
     "output_type": "execute_result"
    }
   ],
   "source": [
    "#Read the data only for 2020\n",
    "df_2020 = pd.read_csv(\"survey_results_public_2020.csv\")\n",
    "#Differently from the function filter on all states appearing in the list of most happiest countries in the world\n",
    "df_2020 = df_2020[( df_2020['Country'] == 'United States') \n",
    "                | (df_2020['Country'] == 'Finland') \n",
    "                | (df_2020['Country'] == 'Denmark')\n",
    "                | (df_2020['Country'] == 'Iceland')\n",
    "                | (df_2020['Country'] == 'Switzerland') \n",
    "                | (df_2020['Country'] == 'Netherlands') \n",
    "                | (df_2020['Country'] == 'Luxembourg') \n",
    "                | (df_2020['Country'] == 'Sweden') \n",
    "                | (df_2020['Country'] == 'Norway') \n",
    "                | (df_2020['Country'] == 'Austria') \n",
    "                | (df_2020['Country'] == 'Ireland') \n",
    "                | (df_2020['Country'] == 'Germany') \n",
    "                | (df_2020['Country'] == 'United Kingdom') \n",
    "                | (df_2020['Country'] == 'Czech Republic') \n",
    "                | (df_2020['Country'] == 'Belgium') \n",
    "                | (df_2020['Country'] == 'France')\n",
    "                | (df_2020['Country'] == 'Israel')\n",
    "                | (df_2020['Country'] == 'New Zealand')\n",
    "                | (df_2020['Country'] == 'Australia')\n",
    "                | (df_2020['Country'] == 'Canada')]\n",
    "#Get required fields\n",
    "df_job_top_factors = df_2020[[ 'Respondent' , 'Gender' , 'JobFactors']]\n",
    "#Drop all null values, since I am doing only inference analysis I am not using any techinique for replacing null values\n",
    "df_job_top_factors = df_job_top_factors.dropna(how='any')\n",
    "#Get the counts for each gender category\n",
    "df_job_top_factors['Gender'].value_counts()\n"
   ]
  },
  {
   "cell_type": "markdown",
   "metadata": {},
   "source": [
    "- Data cleaning and preparation for visualization"
   ]
  },
  {
   "cell_type": "code",
   "execution_count": 12,
   "metadata": {},
   "outputs": [
    {
     "data": {
      "text/plain": [
       "Man           22439\n",
       "Woman          2182\n",
       "Non-Binary      423\n",
       "Name: Gender, dtype: int64"
      ]
     },
     "execution_count": 12,
     "metadata": {},
     "output_type": "execute_result"
    }
   ],
   "source": [
    "#Recplace all genders different from man and women to non-binary\n",
    "df_job_top_factors.loc[~ ((df_job_top_factors['Gender'] == 'Man') | (df_job_top_factors['Gender'] == 'Woman')) , 'Gender'] = 'Non-Binary'\n",
    "#check the counts again\n",
    "df_job_top_factors['Gender'].value_counts()"
   ]
  },
  {
   "cell_type": "code",
   "execution_count": 13,
   "metadata": {},
   "outputs": [
    {
     "data": {
      "text/html": [
       "<div>\n",
       "<style scoped>\n",
       "    .dataframe tbody tr th:only-of-type {\n",
       "        vertical-align: middle;\n",
       "    }\n",
       "\n",
       "    .dataframe tbody tr th {\n",
       "        vertical-align: top;\n",
       "    }\n",
       "\n",
       "    .dataframe thead th {\n",
       "        text-align: right;\n",
       "    }\n",
       "</style>\n",
       "<table border=\"1\" class=\"dataframe\">\n",
       "  <thead>\n",
       "    <tr style=\"text-align: right;\">\n",
       "      <th></th>\n",
       "      <th>Respondent</th>\n",
       "      <th>Gender</th>\n",
       "      <th>JobFactors</th>\n",
       "    </tr>\n",
       "  </thead>\n",
       "  <tbody>\n",
       "    <tr>\n",
       "      <th>0</th>\n",
       "      <td>1</td>\n",
       "      <td>Man</td>\n",
       "      <td>Languages, frameworks, and other technologies I’d be working with;Remote work options;Opportunities for professional development</td>\n",
       "    </tr>\n",
       "    <tr>\n",
       "      <th>5</th>\n",
       "      <td>6</td>\n",
       "      <td>Man</td>\n",
       "      <td>Diversity of the company or organization;Languages, frameworks, and other technologies I’d be working with;Office environment or company culture</td>\n",
       "    </tr>\n",
       "    <tr>\n",
       "      <th>7</th>\n",
       "      <td>8</td>\n",
       "      <td>Man</td>\n",
       "      <td>Remote work options;Opportunities for professional development;Family friendliness</td>\n",
       "    </tr>\n",
       "    <tr>\n",
       "      <th>9</th>\n",
       "      <td>10</td>\n",
       "      <td>Man</td>\n",
       "      <td>Flex time or a flexible schedule;How widely used or impactful my work output would be;Opportunities for professional development</td>\n",
       "    </tr>\n",
       "    <tr>\n",
       "      <th>10</th>\n",
       "      <td>11</td>\n",
       "      <td>Man</td>\n",
       "      <td>Flex time or a flexible schedule;Languages, frameworks, and other technologies I’d be working with;Remote work options</td>\n",
       "    </tr>\n",
       "  </tbody>\n",
       "</table>\n",
       "</div>"
      ],
      "text/plain": [
       "    Respondent Gender  \\\n",
       "0            1    Man   \n",
       "5            6    Man   \n",
       "7            8    Man   \n",
       "9           10    Man   \n",
       "10          11    Man   \n",
       "\n",
       "                                                                                                                                          JobFactors  \n",
       "0                   Languages, frameworks, and other technologies I’d be working with;Remote work options;Opportunities for professional development  \n",
       "5   Diversity of the company or organization;Languages, frameworks, and other technologies I’d be working with;Office environment or company culture  \n",
       "7                                                                 Remote work options;Opportunities for professional development;Family friendliness  \n",
       "9                   Flex time or a flexible schedule;How widely used or impactful my work output would be;Opportunities for professional development  \n",
       "10                            Flex time or a flexible schedule;Languages, frameworks, and other technologies I’d be working with;Remote work options  "
      ]
     },
     "execution_count": 13,
     "metadata": {},
     "output_type": "execute_result"
    }
   ],
   "source": [
    "#Check how the dataframe looks like\n",
    "df_job_top_factors.head()"
   ]
  },
  {
   "cell_type": "code",
   "execution_count": 14,
   "metadata": {},
   "outputs": [
    {
     "data": {
      "text/html": [
       "<div>\n",
       "<style scoped>\n",
       "    .dataframe tbody tr th:only-of-type {\n",
       "        vertical-align: middle;\n",
       "    }\n",
       "\n",
       "    .dataframe tbody tr th {\n",
       "        vertical-align: top;\n",
       "    }\n",
       "\n",
       "    .dataframe thead th {\n",
       "        text-align: right;\n",
       "    }\n",
       "</style>\n",
       "<table border=\"1\" class=\"dataframe\">\n",
       "  <thead>\n",
       "    <tr style=\"text-align: right;\">\n",
       "      <th></th>\n",
       "      <th>Gender</th>\n",
       "      <th>Diversity of the company or organization</th>\n",
       "      <th>Family friendliness</th>\n",
       "      <th>Financial performance or funding status of the company or organization</th>\n",
       "      <th>Flex time or a flexible schedule</th>\n",
       "      <th>How widely used or impactful my work output would be</th>\n",
       "      <th>Industry that I’d be working in</th>\n",
       "      <th>Languages, frameworks, and other technologies I’d be working with</th>\n",
       "      <th>Office environment or company culture</th>\n",
       "      <th>Opportunities for professional development</th>\n",
       "      <th>Remote work options</th>\n",
       "      <th>Specific department or team I’d be working on</th>\n",
       "    </tr>\n",
       "  </thead>\n",
       "  <tbody>\n",
       "    <tr>\n",
       "      <th>0</th>\n",
       "      <td>Man</td>\n",
       "      <td>1254</td>\n",
       "      <td>2910</td>\n",
       "      <td>2186</td>\n",
       "      <td>9974</td>\n",
       "      <td>5203</td>\n",
       "      <td>3825</td>\n",
       "      <td>11927</td>\n",
       "      <td>10744</td>\n",
       "      <td>8157</td>\n",
       "      <td>7309</td>\n",
       "      <td>3098</td>\n",
       "    </tr>\n",
       "    <tr>\n",
       "      <th>1</th>\n",
       "      <td>Non-Binary</td>\n",
       "      <td>151</td>\n",
       "      <td>26</td>\n",
       "      <td>25</td>\n",
       "      <td>174</td>\n",
       "      <td>104</td>\n",
       "      <td>83</td>\n",
       "      <td>162</td>\n",
       "      <td>226</td>\n",
       "      <td>106</td>\n",
       "      <td>140</td>\n",
       "      <td>55</td>\n",
       "    </tr>\n",
       "    <tr>\n",
       "      <th>2</th>\n",
       "      <td>Woman</td>\n",
       "      <td>510</td>\n",
       "      <td>257</td>\n",
       "      <td>140</td>\n",
       "      <td>989</td>\n",
       "      <td>453</td>\n",
       "      <td>338</td>\n",
       "      <td>856</td>\n",
       "      <td>1129</td>\n",
       "      <td>774</td>\n",
       "      <td>718</td>\n",
       "      <td>298</td>\n",
       "    </tr>\n",
       "  </tbody>\n",
       "</table>\n",
       "</div>"
      ],
      "text/plain": [
       "       Gender  Diversity of the company or organization  Family friendliness  \\\n",
       "0         Man                                      1254                 2910   \n",
       "1  Non-Binary                                       151                   26   \n",
       "2       Woman                                       510                  257   \n",
       "\n",
       "   Financial performance or funding status of the company or organization  \\\n",
       "0                                                                    2186   \n",
       "1                                                                      25   \n",
       "2                                                                     140   \n",
       "\n",
       "   Flex time or a flexible schedule  \\\n",
       "0                              9974   \n",
       "1                               174   \n",
       "2                               989   \n",
       "\n",
       "   How widely used or impactful my work output would be  \\\n",
       "0                                                  5203   \n",
       "1                                                   104   \n",
       "2                                                   453   \n",
       "\n",
       "   Industry that I’d be working in  \\\n",
       "0                             3825   \n",
       "1                               83   \n",
       "2                              338   \n",
       "\n",
       "   Languages, frameworks, and other technologies I’d be working with  \\\n",
       "0                                                              11927   \n",
       "1                                                                162   \n",
       "2                                                                856   \n",
       "\n",
       "   Office environment or company culture  \\\n",
       "0                                  10744   \n",
       "1                                    226   \n",
       "2                                   1129   \n",
       "\n",
       "   Opportunities for professional development  Remote work options  \\\n",
       "0                                        8157                 7309   \n",
       "1                                         106                  140   \n",
       "2                                         774                  718   \n",
       "\n",
       "   Specific department or team I’d be working on  \n",
       "0                                           3098  \n",
       "1                                             55  \n",
       "2                                            298  "
      ]
     },
     "execution_count": 14,
     "metadata": {},
     "output_type": "execute_result"
    }
   ],
   "source": [
    "#Since one reponder can select multiple choices, split the string by ';' and convert to a dummy table \n",
    "df_dummies_final = pd.concat([df_job_top_factors['JobFactors'].str.get_dummies(sep = ';'), df_job_top_factors['Gender']], axis=1)\n",
    "#Group by gender and sum the 1s for each category in the dummy table\n",
    "df_dummies_grouped = df_dummies_final.groupby('Gender').sum().reset_index()\n",
    "#visualize the table\n",
    "df_dummies_grouped"
   ]
  },
  {
   "cell_type": "code",
   "execution_count": 15,
   "metadata": {},
   "outputs": [],
   "source": [
    "#Rename gender column to row num so that is displays correctly in the transposed dataset\n",
    "df_dummies_grouped = df_dummies_grouped.rename(columns={\"Gender\":\"Row_Num\"})\n",
    "#Transpose above datset\n",
    "df_dummies_grouped_Transposed = df_dummies_grouped.T\n",
    "#Get header names\n",
    "new_columns = df_dummies_grouped_Transposed.iloc[0]\n",
    "#Transposed column without headers\n",
    "df_transp_grouped_dummies = df_dummies_grouped_Transposed[1:]\n",
    "#Set new headers to the transposed dataframe\n",
    "df_transp_grouped_dummies.columns = new_columns\n",
    "#Set an index for the transposed dataframe\n",
    "df_transp_grouped_dummies = df_transp_grouped_dummies.reset_index()\n",
    "#Rename index\n",
    "df_transp_grouped_dummies.rename(columns = {\"index\":\"Job_Factor\" } , inplace=True)"
   ]
  },
  {
   "cell_type": "code",
   "execution_count": 16,
   "metadata": {},
   "outputs": [],
   "source": [
    "def get_gender_df(df):\n",
    "   '''This function gets as input a df with genders as distinct columns and values as rows for each job factor; returns a list with a 3 columns: Job Factor , Counts and Gender'''\n",
    "\n",
    "   #Create an empty dataframe\n",
    "   data_frames = []\n",
    "   #Loop through unique genders \n",
    "   for gender in df_dummies_final.Gender.unique():\n",
    "      #Create a new dataframe only for the gender in the looping valiable\n",
    "      locals()['df_'+ gender ]  =  df[['Job_Factor' , gender]].sort_values(gender, ascending=False)\n",
    "      #Append the dataframe to the list\n",
    "      data_frames.append(locals()['df_'+ gender ])\n",
    "      #Do an outer join between all dataframes\n",
    "   df_merged = reduce(lambda  left,right: pd.merge(left,right,on=['Job_Factor'],  how='outer'),data_frames )\n",
    "   \n",
    "   #Create an empty list\n",
    "   df_lst = []\n",
    "   #Loop again through genders and create a dataframe with columns : Job Factor , Counts and Gender\n",
    "   for gen in df_dummies_final.Gender.unique():\n",
    "      locals()['df_'+ gen + '_val'] = df_merged[['Job_Factor' , gen]]\n",
    "      locals()['df_'+ gen + '_val'].rename(columns ={gen :\"Counts\"}, inplace = True)\n",
    "      locals()['df_'+ gen + '_val']['Gender'] = gen\n",
    "      df_lst.append(locals()['df_'+ gen + '_val'])\n",
    "   \n",
    "   return df_lst\n"
   ]
  },
  {
   "cell_type": "code",
   "execution_count": 17,
   "metadata": {},
   "outputs": [
    {
     "data": {
      "text/html": [
       "<div>\n",
       "<style scoped>\n",
       "    .dataframe tbody tr th:only-of-type {\n",
       "        vertical-align: middle;\n",
       "    }\n",
       "\n",
       "    .dataframe tbody tr th {\n",
       "        vertical-align: top;\n",
       "    }\n",
       "\n",
       "    .dataframe thead th {\n",
       "        text-align: right;\n",
       "    }\n",
       "</style>\n",
       "<table border=\"1\" class=\"dataframe\">\n",
       "  <thead>\n",
       "    <tr style=\"text-align: right;\">\n",
       "      <th>Row_Num</th>\n",
       "      <th>Job_Factor</th>\n",
       "      <th>Counts</th>\n",
       "      <th>Gender</th>\n",
       "    </tr>\n",
       "  </thead>\n",
       "  <tbody>\n",
       "    <tr>\n",
       "      <th>0</th>\n",
       "      <td>Languages, frameworks, and other technologies I’d be working with</td>\n",
       "      <td>11927</td>\n",
       "      <td>Man</td>\n",
       "    </tr>\n",
       "    <tr>\n",
       "      <th>1</th>\n",
       "      <td>Office environment or company culture</td>\n",
       "      <td>10744</td>\n",
       "      <td>Man</td>\n",
       "    </tr>\n",
       "    <tr>\n",
       "      <th>2</th>\n",
       "      <td>Flex time or a flexible schedule</td>\n",
       "      <td>9974</td>\n",
       "      <td>Man</td>\n",
       "    </tr>\n",
       "    <tr>\n",
       "      <th>3</th>\n",
       "      <td>Opportunities for professional development</td>\n",
       "      <td>8157</td>\n",
       "      <td>Man</td>\n",
       "    </tr>\n",
       "    <tr>\n",
       "      <th>4</th>\n",
       "      <td>Remote work options</td>\n",
       "      <td>7309</td>\n",
       "      <td>Man</td>\n",
       "    </tr>\n",
       "    <tr>\n",
       "      <th>5</th>\n",
       "      <td>How widely used or impactful my work output would be</td>\n",
       "      <td>5203</td>\n",
       "      <td>Man</td>\n",
       "    </tr>\n",
       "    <tr>\n",
       "      <th>6</th>\n",
       "      <td>Industry that I’d be working in</td>\n",
       "      <td>3825</td>\n",
       "      <td>Man</td>\n",
       "    </tr>\n",
       "    <tr>\n",
       "      <th>7</th>\n",
       "      <td>Specific department or team I’d be working on</td>\n",
       "      <td>3098</td>\n",
       "      <td>Man</td>\n",
       "    </tr>\n",
       "    <tr>\n",
       "      <th>8</th>\n",
       "      <td>Family friendliness</td>\n",
       "      <td>2910</td>\n",
       "      <td>Man</td>\n",
       "    </tr>\n",
       "    <tr>\n",
       "      <th>9</th>\n",
       "      <td>Financial performance or funding status of the company or organization</td>\n",
       "      <td>2186</td>\n",
       "      <td>Man</td>\n",
       "    </tr>\n",
       "    <tr>\n",
       "      <th>10</th>\n",
       "      <td>Diversity of the company or organization</td>\n",
       "      <td>1254</td>\n",
       "      <td>Man</td>\n",
       "    </tr>\n",
       "    <tr>\n",
       "      <th>11</th>\n",
       "      <td>Languages, frameworks, and other technologies I’d be working with</td>\n",
       "      <td>856</td>\n",
       "      <td>Woman</td>\n",
       "    </tr>\n",
       "    <tr>\n",
       "      <th>12</th>\n",
       "      <td>Office environment or company culture</td>\n",
       "      <td>1129</td>\n",
       "      <td>Woman</td>\n",
       "    </tr>\n",
       "    <tr>\n",
       "      <th>13</th>\n",
       "      <td>Flex time or a flexible schedule</td>\n",
       "      <td>989</td>\n",
       "      <td>Woman</td>\n",
       "    </tr>\n",
       "    <tr>\n",
       "      <th>14</th>\n",
       "      <td>Opportunities for professional development</td>\n",
       "      <td>774</td>\n",
       "      <td>Woman</td>\n",
       "    </tr>\n",
       "    <tr>\n",
       "      <th>15</th>\n",
       "      <td>Remote work options</td>\n",
       "      <td>718</td>\n",
       "      <td>Woman</td>\n",
       "    </tr>\n",
       "    <tr>\n",
       "      <th>16</th>\n",
       "      <td>How widely used or impactful my work output would be</td>\n",
       "      <td>453</td>\n",
       "      <td>Woman</td>\n",
       "    </tr>\n",
       "    <tr>\n",
       "      <th>17</th>\n",
       "      <td>Industry that I’d be working in</td>\n",
       "      <td>338</td>\n",
       "      <td>Woman</td>\n",
       "    </tr>\n",
       "    <tr>\n",
       "      <th>18</th>\n",
       "      <td>Specific department or team I’d be working on</td>\n",
       "      <td>298</td>\n",
       "      <td>Woman</td>\n",
       "    </tr>\n",
       "    <tr>\n",
       "      <th>19</th>\n",
       "      <td>Family friendliness</td>\n",
       "      <td>257</td>\n",
       "      <td>Woman</td>\n",
       "    </tr>\n",
       "    <tr>\n",
       "      <th>20</th>\n",
       "      <td>Financial performance or funding status of the company or organization</td>\n",
       "      <td>140</td>\n",
       "      <td>Woman</td>\n",
       "    </tr>\n",
       "    <tr>\n",
       "      <th>21</th>\n",
       "      <td>Diversity of the company or organization</td>\n",
       "      <td>510</td>\n",
       "      <td>Woman</td>\n",
       "    </tr>\n",
       "    <tr>\n",
       "      <th>22</th>\n",
       "      <td>Languages, frameworks, and other technologies I’d be working with</td>\n",
       "      <td>162</td>\n",
       "      <td>Non-Binary</td>\n",
       "    </tr>\n",
       "    <tr>\n",
       "      <th>23</th>\n",
       "      <td>Office environment or company culture</td>\n",
       "      <td>226</td>\n",
       "      <td>Non-Binary</td>\n",
       "    </tr>\n",
       "    <tr>\n",
       "      <th>24</th>\n",
       "      <td>Flex time or a flexible schedule</td>\n",
       "      <td>174</td>\n",
       "      <td>Non-Binary</td>\n",
       "    </tr>\n",
       "    <tr>\n",
       "      <th>25</th>\n",
       "      <td>Opportunities for professional development</td>\n",
       "      <td>106</td>\n",
       "      <td>Non-Binary</td>\n",
       "    </tr>\n",
       "    <tr>\n",
       "      <th>26</th>\n",
       "      <td>Remote work options</td>\n",
       "      <td>140</td>\n",
       "      <td>Non-Binary</td>\n",
       "    </tr>\n",
       "    <tr>\n",
       "      <th>27</th>\n",
       "      <td>How widely used or impactful my work output would be</td>\n",
       "      <td>104</td>\n",
       "      <td>Non-Binary</td>\n",
       "    </tr>\n",
       "    <tr>\n",
       "      <th>28</th>\n",
       "      <td>Industry that I’d be working in</td>\n",
       "      <td>83</td>\n",
       "      <td>Non-Binary</td>\n",
       "    </tr>\n",
       "    <tr>\n",
       "      <th>29</th>\n",
       "      <td>Specific department or team I’d be working on</td>\n",
       "      <td>55</td>\n",
       "      <td>Non-Binary</td>\n",
       "    </tr>\n",
       "    <tr>\n",
       "      <th>30</th>\n",
       "      <td>Family friendliness</td>\n",
       "      <td>26</td>\n",
       "      <td>Non-Binary</td>\n",
       "    </tr>\n",
       "    <tr>\n",
       "      <th>31</th>\n",
       "      <td>Financial performance or funding status of the company or organization</td>\n",
       "      <td>25</td>\n",
       "      <td>Non-Binary</td>\n",
       "    </tr>\n",
       "    <tr>\n",
       "      <th>32</th>\n",
       "      <td>Diversity of the company or organization</td>\n",
       "      <td>151</td>\n",
       "      <td>Non-Binary</td>\n",
       "    </tr>\n",
       "  </tbody>\n",
       "</table>\n",
       "</div>"
      ],
      "text/plain": [
       "Row_Num                                                              Job_Factor  \\\n",
       "0             Languages, frameworks, and other technologies I’d be working with   \n",
       "1                                         Office environment or company culture   \n",
       "2                                              Flex time or a flexible schedule   \n",
       "3                                    Opportunities for professional development   \n",
       "4                                                           Remote work options   \n",
       "5                          How widely used or impactful my work output would be   \n",
       "6                                               Industry that I’d be working in   \n",
       "7                                 Specific department or team I’d be working on   \n",
       "8                                                           Family friendliness   \n",
       "9        Financial performance or funding status of the company or organization   \n",
       "10                                     Diversity of the company or organization   \n",
       "11            Languages, frameworks, and other technologies I’d be working with   \n",
       "12                                        Office environment or company culture   \n",
       "13                                             Flex time or a flexible schedule   \n",
       "14                                   Opportunities for professional development   \n",
       "15                                                          Remote work options   \n",
       "16                         How widely used or impactful my work output would be   \n",
       "17                                              Industry that I’d be working in   \n",
       "18                                Specific department or team I’d be working on   \n",
       "19                                                          Family friendliness   \n",
       "20       Financial performance or funding status of the company or organization   \n",
       "21                                     Diversity of the company or organization   \n",
       "22            Languages, frameworks, and other technologies I’d be working with   \n",
       "23                                        Office environment or company culture   \n",
       "24                                             Flex time or a flexible schedule   \n",
       "25                                   Opportunities for professional development   \n",
       "26                                                          Remote work options   \n",
       "27                         How widely used or impactful my work output would be   \n",
       "28                                              Industry that I’d be working in   \n",
       "29                                Specific department or team I’d be working on   \n",
       "30                                                          Family friendliness   \n",
       "31       Financial performance or funding status of the company or organization   \n",
       "32                                     Diversity of the company or organization   \n",
       "\n",
       "Row_Num Counts      Gender  \n",
       "0        11927         Man  \n",
       "1        10744         Man  \n",
       "2         9974         Man  \n",
       "3         8157         Man  \n",
       "4         7309         Man  \n",
       "5         5203         Man  \n",
       "6         3825         Man  \n",
       "7         3098         Man  \n",
       "8         2910         Man  \n",
       "9         2186         Man  \n",
       "10        1254         Man  \n",
       "11         856       Woman  \n",
       "12        1129       Woman  \n",
       "13         989       Woman  \n",
       "14         774       Woman  \n",
       "15         718       Woman  \n",
       "16         453       Woman  \n",
       "17         338       Woman  \n",
       "18         298       Woman  \n",
       "19         257       Woman  \n",
       "20         140       Woman  \n",
       "21         510       Woman  \n",
       "22         162  Non-Binary  \n",
       "23         226  Non-Binary  \n",
       "24         174  Non-Binary  \n",
       "25         106  Non-Binary  \n",
       "26         140  Non-Binary  \n",
       "27         104  Non-Binary  \n",
       "28          83  Non-Binary  \n",
       "29          55  Non-Binary  \n",
       "30          26  Non-Binary  \n",
       "31          25  Non-Binary  \n",
       "32         151  Non-Binary  "
      ]
     },
     "execution_count": 17,
     "metadata": {},
     "output_type": "execute_result"
    }
   ],
   "source": [
    "#Create an empty dataframe\n",
    "df_final = pd.DataFrame()\n",
    "#Call above function \n",
    "df_final = df_final.append(get_gender_df(df_transp_grouped_dummies)).reset_index()[['Job_Factor', 'Counts', 'Gender']]\n",
    "#Display the dataframe that will be used for visualization\n",
    "df_final\n"
   ]
  },
  {
   "cell_type": "code",
   "execution_count": 18,
   "metadata": {},
   "outputs": [
    {
     "data": {
      "text/html": [
       "<div>\n",
       "<style scoped>\n",
       "    .dataframe tbody tr th:only-of-type {\n",
       "        vertical-align: middle;\n",
       "    }\n",
       "\n",
       "    .dataframe tbody tr th {\n",
       "        vertical-align: top;\n",
       "    }\n",
       "\n",
       "    .dataframe thead th {\n",
       "        text-align: right;\n",
       "    }\n",
       "</style>\n",
       "<table border=\"1\" class=\"dataframe\">\n",
       "  <thead>\n",
       "    <tr style=\"text-align: right;\">\n",
       "      <th></th>\n",
       "      <th>Job_Factor</th>\n",
       "      <th>Counts</th>\n",
       "      <th>Gender</th>\n",
       "      <th>Total Counts</th>\n",
       "      <th>Percentage per gender</th>\n",
       "    </tr>\n",
       "  </thead>\n",
       "  <tbody>\n",
       "    <tr>\n",
       "      <th>0</th>\n",
       "      <td>Languages, frameworks,\\nand other technologies\\nI’d be working with</td>\n",
       "      <td>11927</td>\n",
       "      <td>Man</td>\n",
       "      <td>66587</td>\n",
       "      <td>17.911905</td>\n",
       "    </tr>\n",
       "    <tr>\n",
       "      <th>1</th>\n",
       "      <td>Office environment or\\ncompany culture</td>\n",
       "      <td>10744</td>\n",
       "      <td>Man</td>\n",
       "      <td>66587</td>\n",
       "      <td>16.135282</td>\n",
       "    </tr>\n",
       "    <tr>\n",
       "      <th>2</th>\n",
       "      <td>Flex time or a flexible\\nschedule</td>\n",
       "      <td>9974</td>\n",
       "      <td>Man</td>\n",
       "      <td>66587</td>\n",
       "      <td>14.9789</td>\n",
       "    </tr>\n",
       "    <tr>\n",
       "      <th>3</th>\n",
       "      <td>Opportunities for\\nprofessional development</td>\n",
       "      <td>8157</td>\n",
       "      <td>Man</td>\n",
       "      <td>66587</td>\n",
       "      <td>12.250139</td>\n",
       "    </tr>\n",
       "    <tr>\n",
       "      <th>4</th>\n",
       "      <td>Remote work options</td>\n",
       "      <td>7309</td>\n",
       "      <td>Man</td>\n",
       "      <td>66587</td>\n",
       "      <td>10.976617</td>\n",
       "    </tr>\n",
       "  </tbody>\n",
       "</table>\n",
       "</div>"
      ],
      "text/plain": [
       "                                                            Job_Factor Counts  \\\n",
       "0  Languages, frameworks,\\nand other technologies\\nI’d be working with  11927   \n",
       "1                               Office environment or\\ncompany culture  10744   \n",
       "2                                    Flex time or a flexible\\nschedule   9974   \n",
       "3                          Opportunities for\\nprofessional development   8157   \n",
       "4                                                  Remote work options   7309   \n",
       "\n",
       "  Gender  Total Counts Percentage per gender  \n",
       "0    Man         66587             17.911905  \n",
       "1    Man         66587             16.135282  \n",
       "2    Man         66587               14.9789  \n",
       "3    Man         66587             12.250139  \n",
       "4    Man         66587             10.976617  "
      ]
     },
     "execution_count": 18,
     "metadata": {},
     "output_type": "execute_result"
    }
   ],
   "source": [
    "#Modify the test in job factor column to be wrapped \n",
    "df_final['Job_Factor'] = df_final['Job_Factor'].apply(lambda row: '\\n'.join(wrap(row, 25)))\n",
    "#Get the sum based on each job factor\n",
    "df_grouped_JF = df_final.groupby('Job_Factor').sum()['Counts'].to_frame().reset_index()\n",
    "#Find percentage for each job factor\n",
    "df_grouped_JF['Percentage per job factor'] = (df_grouped_JF['Counts'] / df_grouped_JF['Counts'].sum()) * 100\n",
    "#Order values by percetage per job factor in descending order\n",
    "df_grouped_JF.sort_values('Percentage per job factor' , ascending=False , inplace=True)\n",
    "#Create a list with orders factors, this will be used later in the chart\n",
    "JF_oder_desc = list(df_grouped_JF['Job_Factor'])\n",
    "#Find the sum for each gender and save it to a new dataframe\n",
    "df_grouped_Gender = df_final.groupby([ \"Gender\"]).sum()['Counts'].to_frame().reset_index().rename(columns = {\"Counts\" : \"Total Counts\"})\n",
    "#Do a left join with above dataframe \n",
    "df_perc_gender = pd.merge(df_final , df_grouped_Gender , on =[\"Gender\"] , how =\"left\")\n",
    "#Find percentage for each gender under a specific job factor\n",
    "df_perc_gender['Percentage per gender']  = df_perc_gender['Counts'] / df_perc_gender['Total Counts'] * 100\n",
    "#Display top 5 records of above dataframe\n",
    "df_perc_gender.head()"
   ]
  },
  {
   "cell_type": "markdown",
   "metadata": {},
   "source": [
    "- Visualize"
   ]
  },
  {
   "cell_type": "code",
   "execution_count": 19,
   "metadata": {},
   "outputs": [
    {
     "data": {
      "image/png": "[encoded data removed]",
      "text/plain": [
       "<Figure size 811.375x720 with 1 Axes>"
      ]
     },
     "metadata": {
      "needs_background": "light"
     },
     "output_type": "display_data"
    }
   ],
   "source": [
    "#Create a chart which will display percetage of each gender in the category\n",
    "g  = sns.catplot(x=\"Percentage per gender\", y=\"Job_Factor\", data=df_perc_gender, hue=\"Gender\", kind=\"bar\",size= 10, \n",
    "                palette=sns.color_palette(['#66C2E4' , '#66E471' , '#E4C966' ]) , order= JF_oder_desc );\n",
    "\n",
    "#Create a function which will display percantages as lables for each bar\n",
    "def add_labels(graph, category_size,  omit_thresh, width_var, num_format):\n",
    "        ax = graph.facet_axis(0,0)\n",
    "        for p in ax.patches:\n",
    "            if p.get_width() > omit_thresh: # omit labels close to zero or other threshold\n",
    "                width = p.get_width() * width_var   # get bar length\n",
    "                ax.text(width,       # set the text at 1 unit right of the bar\n",
    "                p.get_y() + p.get_height() / 2, # get Y coordinate + X coordinate / 2\n",
    "                num_format.format(p.get_width()), # set variable to display, 2 decimals\n",
    "                ha = 'center',   # horizontal alignment\n",
    "                va = 'center')  # vertical alignment\n",
    "            else:\n",
    "                pass\n",
    "\n",
    "#Call above function and fix number format\n",
    "add_labels(graph=g, category_size = len(df_perc_gender.index.unique()) , omit_thresh=0, width_var=0.5, num_format='{:.1f}%')\n",
    "\n",
    "#Remove Y labels\n",
    "plt.ylabel(\" \");\n",
    "#Set the title\n",
    "plt.title(\"Factors developers from happiest countries in the world would consider when deciding between two equal job offers in 2020\" , pad = 20);"
   ]
  }
 ],
 "metadata": {
  "kernelspec": {
   "display_name": "Python 3.7.13 ('powerbi')",
   "language": "python",
   "name": "python3"
  },
  "language_info": {
   "codemirror_mode": {
    "name": "ipython",
    "version": 3
   },
   "file_extension": ".py",
   "mimetype": "text/x-python",
   "name": "python",
   "nbconvert_exporter": "python",
   "pygments_lexer": "ipython3",
   "version": "3.7.13"
  },
  "orig_nbformat": 4,
  "vscode": {
   "interpreter": {
    "hash": "807e771149081c63ef8bda18d8615482276b14572315263c4560d4c1b56a70c2"
   }
  }
 },
 "nbformat": 4,
 "nbformat_minor": 2
}
